{
 "cells": [
  {
   "cell_type": "markdown",
   "id": "fitting-child",
   "metadata": {},
   "source": [
    "2021_03/1"
   ]
  },
  {
   "cell_type": "code",
   "execution_count": 1,
   "id": "guilty-sydney",
   "metadata": {},
   "outputs": [],
   "source": [
    "import pandas as pd\n",
    "import numpy as np"
   ]
  },
  {
   "cell_type": "code",
   "execution_count": 2,
   "id": "cooked-syndrome",
   "metadata": {},
   "outputs": [],
   "source": [
    "data = list(pd.read_csv('data/2021_03.txt',header=None, dtype=str)[0])\n",
    "#data"
   ]
  },
  {
   "cell_type": "code",
   "execution_count": 3,
   "id": "extensive-percentage",
   "metadata": {},
   "outputs": [
    {
     "data": {
      "text/plain": [
       "(1000, 12)"
      ]
     },
     "execution_count": 3,
     "metadata": {},
     "output_type": "execute_result"
    }
   ],
   "source": [
    "len(data), len(data[0])"
   ]
  },
  {
   "cell_type": "code",
   "execution_count": 4,
   "id": "opponent-brook",
   "metadata": {},
   "outputs": [],
   "source": [
    "df = pd.DataFrame()\n",
    "for row in data:\n",
    "    splitted = pd.DataFrame(list(row)).astype(int)\n",
    "    df = pd.concat([df,splitted.transpose()]).reset_index(drop=True)\n",
    "#df"
   ]
  },
  {
   "cell_type": "code",
   "execution_count": 5,
   "id": "unexpected-bristol",
   "metadata": {},
   "outputs": [
    {
     "data": {
      "text/plain": [
       "738234"
      ]
     },
     "execution_count": 5,
     "metadata": {},
     "output_type": "execute_result"
    }
   ],
   "source": [
    "gamma = ''\n",
    "epsilon = ''\n",
    "\n",
    "for col in df:\n",
    "    zeros = len(np.where(df[col]==0)[0]) # count 0\n",
    "    #print(zeros)\n",
    "    if zeros > 500:\n",
    "        gamma += '0'\n",
    "        epsilon += '1'\n",
    "    else:\n",
    "        gamma += '1'\n",
    "        epsilon += '0'\n",
    "        \n",
    "res = int(gamma,2) * int(epsilon,2)\n",
    "res #738234"
   ]
  },
  {
   "cell_type": "markdown",
   "id": "engaging-september",
   "metadata": {},
   "source": [
    "2021_03/2"
   ]
  },
  {
   "cell_type": "code",
   "execution_count": 6,
   "id": "demonstrated-socket",
   "metadata": {},
   "outputs": [
    {
     "data": {
      "text/plain": [
       "3969126"
      ]
     },
     "execution_count": 6,
     "metadata": {},
     "output_type": "execute_result"
    }
   ],
   "source": [
    "data = list(pd.read_csv('data/2021_03.txt',header=None, dtype=str)[0])\n",
    "\n",
    "res = ['',''] # generator, scrubber\n",
    "\n",
    "for index, i in enumerate([[0,1],[1,0]]):\n",
    "\n",
    "    df = pd.DataFrame()\n",
    "    for row in data:\n",
    "        splitted = pd.DataFrame(list(row)).astype(int)\n",
    "        df = pd.concat([df,splitted.transpose()]).reset_index(drop=True)\n",
    "\n",
    "    for col in df:\n",
    "        zeros = len(np.where(df[col]==0)[0]) \n",
    "        ones = len(np.where(df[col]==1)[0]) \n",
    "        if zeros > ones:\n",
    "            df = df[df[col]==i[0]]\n",
    "        else:\n",
    "            df = df[df[col]==i[1]]\n",
    "\n",
    "        if len(df) == 1:\n",
    "            break\n",
    "      \n",
    "    for val in np.array(df)[0]:\n",
    "        res[index] = res[index]+str(val)\n",
    "\n",
    "result = int(res[0],2) * int(res[1],2)\n",
    "result #3969126"
   ]
  }
 ],
 "metadata": {
  "kernelspec": {
   "display_name": "Python 3",
   "language": "python",
   "name": "python3"
  },
  "language_info": {
   "codemirror_mode": {
    "name": "ipython",
    "version": 3
   },
   "file_extension": ".py",
   "mimetype": "text/x-python",
   "name": "python",
   "nbconvert_exporter": "python",
   "pygments_lexer": "ipython3",
   "version": "3.7.10"
  }
 },
 "nbformat": 4,
 "nbformat_minor": 5
}
