{
 "cells": [
  {
   "cell_type": "markdown",
   "id": "affecting-accident",
   "metadata": {},
   "source": [
    "2022_11/1"
   ]
  },
  {
   "cell_type": "code",
   "execution_count": 1,
   "id": "occupational-sight",
   "metadata": {},
   "outputs": [],
   "source": [
    "import numpy as np"
   ]
  },
  {
   "cell_type": "code",
   "execution_count": 2,
   "id": "direct-passing",
   "metadata": {},
   "outputs": [],
   "source": [
    "def create():\n",
    "    \n",
    "    with open('data/2022_11.txt') as f:\n",
    "        data = f.read().splitlines()\n",
    "\n",
    "    monkeys = []\n",
    "\n",
    "    for i in range(0,(len(data)//7+1)*7,7):\n",
    "\n",
    "        items = list(map(int,data[1+i][18:].split(', ')))\n",
    "        operation = data[2+i][19:].split(' ')\n",
    "        test = int(data[3+i][21:])\n",
    "        opt1 = int(data[4+i][29:])\n",
    "        opt2 = int(data[5+i][30:])\n",
    "\n",
    "        monkeys.append([items, operation, test, opt1, opt2, 0])\n",
    "\n",
    "    return monkeys"
   ]
  },
  {
   "cell_type": "code",
   "execution_count": 3,
   "id": "solved-honey",
   "metadata": {},
   "outputs": [],
   "source": [
    "def operation(item, op):\n",
    "    \n",
    "    if op[2] == 'old':\n",
    "        second = item\n",
    "    else:\n",
    "        second = int(op[2])\n",
    "            \n",
    "    if op[1] == '+':\n",
    "        value = item + second\n",
    "    else:\n",
    "        value = item * second\n",
    "    \n",
    "    return value"
   ]
  },
  {
   "cell_type": "code",
   "execution_count": 4,
   "id": "aggregate-creation",
   "metadata": {},
   "outputs": [
    {
     "name": "stdout",
     "output_type": "stream",
     "text": [
      "Result = 66802\n"
     ]
    }
   ],
   "source": [
    "monkeys = create()\n",
    "\n",
    "for r in range(20):\n",
    "\n",
    "    for mki, mk in enumerate(monkeys):\n",
    "\n",
    "        for item in mk[0]:\n",
    "                   \n",
    "            value = operation(item, mk[1])\n",
    "\n",
    "            value = value//3\n",
    "\n",
    "            if value % mk[2] == 0:\n",
    "                monkeys[mk[3]][0].append(value)\n",
    "            else:\n",
    "                monkeys[mk[4]][0].append(value)\n",
    "\n",
    "            monkeys[mki][0] = mk[0][1:]\n",
    "            \n",
    "            monkeys[mki][-1] += 1\n",
    "        \n",
    "result = np.prod(np.sort(np.array(monkeys, dtype=object).transpose()[-1])[-2:])\n",
    "print('Result =', result) # 66802"
   ]
  },
  {
   "cell_type": "markdown",
   "id": "automated-hayes",
   "metadata": {},
   "source": [
    "2022_11/2 - IN PROGRESS"
   ]
  },
  {
   "cell_type": "code",
   "execution_count": 5,
   "id": "handmade-adaptation",
   "metadata": {},
   "outputs": [],
   "source": [
    "from tqdm import tqdm"
   ]
  },
  {
   "cell_type": "code",
   "execution_count": 6,
   "id": "stretch-revelation",
   "metadata": {},
   "outputs": [],
   "source": [
    "dt = np.int64"
   ]
  },
  {
   "cell_type": "code",
   "execution_count": 7,
   "id": "fundamental-electronics",
   "metadata": {},
   "outputs": [],
   "source": [
    "def create():\n",
    "    \n",
    "    with open('data/2022_11_test.txt') as f:\n",
    "        data = f.read().splitlines()\n",
    "\n",
    "    monkeys = []\n",
    "\n",
    "    for i in range(0,(len(data)//7+1)*7,7):\n",
    "\n",
    "        items = list(map(int,data[1+i][18:].split(', ')))\n",
    "        operation = data[2+i][19:].split(' ')[1:] \n",
    "        test = int(data[3+i][21:])\n",
    "        opt1 = int(data[4+i][29:])\n",
    "        opt2 = int(data[5+i][30:])\n",
    "\n",
    "        monkeys.append([items, operation, test, opt1, opt2, 0])\n",
    "\n",
    "    return monkeys"
   ]
  },
  {
   "cell_type": "code",
   "execution_count": 8,
   "id": "dedicated-offering",
   "metadata": {},
   "outputs": [],
   "source": [
    "def operation(item, op):\n",
    "    \n",
    "    if op[-1] == 'old':\n",
    "        second = item\n",
    "    else:\n",
    "        second = [int(op[-1])]*len(item)\n",
    "     \n",
    "    if op[0] == '+':\n",
    "        value = np.array(item,dtype = dt) + np.array(second,dtype = dt)\n",
    "    else:\n",
    "        value = np.array(item,dtype = dt) * np.array(second,dtype = dt)\n",
    "\n",
    "    value = np.array(value,dtype = dt)\n",
    "    \n",
    "    return value"
   ]
  },
  {
   "cell_type": "code",
   "execution_count": 9,
   "id": "quick-engineer",
   "metadata": {
    "scrolled": true
   },
   "outputs": [
    {
     "name": "stdout",
     "output_type": "stream",
     "text": [
      "Result = 10197\n",
      "[99 97 8 103]\n"
     ]
    }
   ],
   "source": [
    "monkeys = create()\n",
    "\n",
    "#trans = np.array(monkeys, dtype=object).transpose()\n",
    "\n",
    "for r in range(20):\n",
    "\n",
    "    for mki, mk in enumerate(monkeys):\n",
    "        \n",
    "\n",
    "        \n",
    "        value = operation(mk[0],mk[1])\n",
    "      \n",
    "        value = value//1 # DELETE    \n",
    "        \n",
    "        val1 = np.array(value[value % mk[2] == 0],dtype = dt).tolist()\n",
    "        val2 = np.array(value[value % mk[2] != 0],dtype = dt).tolist()\n",
    "\n",
    "        \n",
    "        monkeys[mk[3]][0] += val1\n",
    "        monkeys[mk[4]][0] += val2\n",
    "\n",
    "        monkeys[mki][-1] += len(mk[0])\n",
    "        monkeys[mki][0] = []\n",
    "        \n",
    "       # print(np.array(monkeys, dtype=object).transpose()[0])\n",
    "result = np.prod(np.sort(np.array(monkeys, dtype=object).transpose()[-1])[-2:])\n",
    "print('Result =', result) # 2713310158 (test), @1000: 5204 4792 199 5192\n",
    "print(np.array(monkeys, dtype=object).transpose()[-1]) # 99., 97,8, 103 #10197 # too low 17929199596"
   ]
  }
 ],
 "metadata": {
  "kernelspec": {
   "display_name": "Python 3",
   "language": "python",
   "name": "python3"
  },
  "language_info": {
   "codemirror_mode": {
    "name": "ipython",
    "version": 3
   },
   "file_extension": ".py",
   "mimetype": "text/x-python",
   "name": "python",
   "nbconvert_exporter": "python",
   "pygments_lexer": "ipython3",
   "version": "3.7.10"
  }
 },
 "nbformat": 4,
 "nbformat_minor": 5
}
