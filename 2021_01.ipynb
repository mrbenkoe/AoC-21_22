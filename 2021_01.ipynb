{
 "cells": [
  {
   "cell_type": "markdown",
   "id": "authentic-legislature",
   "metadata": {},
   "source": [
    "2021_01/1"
   ]
  },
  {
   "cell_type": "code",
   "execution_count": 1,
   "id": "chemical-title",
   "metadata": {},
   "outputs": [],
   "source": [
    "import pandas as pd\n",
    "import numpy as np"
   ]
  },
  {
   "cell_type": "code",
   "execution_count": 2,
   "id": "thousand-paradise",
   "metadata": {},
   "outputs": [],
   "source": [
    "data = list(pd.read_csv('data/2021_01.txt',header=None)[0])"
   ]
  },
  {
   "cell_type": "code",
   "execution_count": 3,
   "id": "british-narrative",
   "metadata": {},
   "outputs": [
    {
     "data": {
      "text/plain": [
       "1502"
      ]
     },
     "execution_count": 3,
     "metadata": {},
     "output_type": "execute_result"
    }
   ],
   "source": [
    "first = np.array(data[:-1])\n",
    "second = np.array(data[1:])\n",
    "\n",
    "def counter_function(first, second):\n",
    "    counter = 0\n",
    "    for vi, val in enumerate(first):\n",
    "        if second[vi] > val:\n",
    "            counter += 1\n",
    "    return counter\n",
    "\n",
    "counter_function(first, second) #1502"
   ]
  },
  {
   "cell_type": "markdown",
   "id": "harmful-handbook",
   "metadata": {},
   "source": [
    "2021_01/2"
   ]
  },
  {
   "cell_type": "code",
   "execution_count": 4,
   "id": "hispanic-saturday",
   "metadata": {
    "scrolled": true
   },
   "outputs": [
    {
     "data": {
      "text/plain": [
       "True"
      ]
     },
     "execution_count": 4,
     "metadata": {},
     "output_type": "execute_result"
    }
   ],
   "source": [
    "list_of_sums = []\n",
    "\n",
    "for i in range(len(data)):\n",
    "    if i+3 <= len(data):\n",
    "        list_of_sums.append(sum(data[i:i+3]))\n",
    "    \n",
    "len(data) - len(list_of_sums) == 2"
   ]
  },
  {
   "cell_type": "code",
   "execution_count": 5,
   "id": "suitable-valuation",
   "metadata": {},
   "outputs": [
    {
     "data": {
      "text/plain": [
       "1538"
      ]
     },
     "execution_count": 5,
     "metadata": {},
     "output_type": "execute_result"
    }
   ],
   "source": [
    "first = np.array(list_of_sums[:-1])\n",
    "second = np.array(list_of_sums[1:])\n",
    "\n",
    "counter_function(first, second) #1538"
   ]
  }
 ],
 "metadata": {
  "kernelspec": {
   "display_name": "Python 3",
   "language": "python",
   "name": "python3"
  },
  "language_info": {
   "codemirror_mode": {
    "name": "ipython",
    "version": 3
   },
   "file_extension": ".py",
   "mimetype": "text/x-python",
   "name": "python",
   "nbconvert_exporter": "python",
   "pygments_lexer": "ipython3",
   "version": "3.7.10"
  }
 },
 "nbformat": 4,
 "nbformat_minor": 5
}
