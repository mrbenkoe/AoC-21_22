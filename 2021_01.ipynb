{
 "cells": [
  {
   "cell_type": "markdown",
   "id": "adjusted-accused",
   "metadata": {},
   "source": [
    "# 01/1"
   ]
  },
  {
   "cell_type": "code",
   "execution_count": 1,
   "id": "underlying-cleveland",
   "metadata": {},
   "outputs": [],
   "source": [
    "import pandas as pd\n",
    "import numpy as np"
   ]
  },
  {
   "cell_type": "code",
   "execution_count": 2,
   "id": "hindu-campus",
   "metadata": {},
   "outputs": [
    {
     "data": {
      "text/plain": [
       "'How many measurements are larger than the previous measurement?'"
      ]
     },
     "execution_count": 2,
     "metadata": {},
     "output_type": "execute_result"
    }
   ],
   "source": [
    "'''How many measurements are larger than the previous measurement?'''"
   ]
  },
  {
   "cell_type": "code",
   "execution_count": 3,
   "id": "enormous-roads",
   "metadata": {},
   "outputs": [],
   "source": [
    "data = list(pd.read_csv('data/2021_01.txt',header=None)[0])\n",
    "#data"
   ]
  },
  {
   "cell_type": "code",
   "execution_count": 4,
   "id": "graduate-burton",
   "metadata": {},
   "outputs": [
    {
     "data": {
      "text/plain": [
       "2000"
      ]
     },
     "execution_count": 4,
     "metadata": {},
     "output_type": "execute_result"
    }
   ],
   "source": [
    "len(data)"
   ]
  },
  {
   "cell_type": "code",
   "execution_count": 5,
   "id": "nuclear-affair",
   "metadata": {},
   "outputs": [
    {
     "data": {
      "text/plain": [
       "1502"
      ]
     },
     "execution_count": 5,
     "metadata": {},
     "output_type": "execute_result"
    }
   ],
   "source": [
    "first = np.array(data[:-1])\n",
    "second = np.array(data[1:])\n",
    "\n",
    "def counter_function(first, second):\n",
    "    counter = 0\n",
    "    for vi, val in enumerate(first):\n",
    "        if second[vi] > val:\n",
    "            counter += 1\n",
    "    return counter\n",
    "\n",
    "counter_function(first, second)  "
   ]
  },
  {
   "cell_type": "markdown",
   "id": "advanced-baking",
   "metadata": {},
   "source": [
    "# 01/2"
   ]
  },
  {
   "cell_type": "code",
   "execution_count": 6,
   "id": "introductory-pontiac",
   "metadata": {},
   "outputs": [
    {
     "data": {
      "text/plain": [
       "'How many sums are larger than the previous sum?'"
      ]
     },
     "execution_count": 6,
     "metadata": {},
     "output_type": "execute_result"
    }
   ],
   "source": [
    "'''How many sums are larger than the previous sum?'''"
   ]
  },
  {
   "cell_type": "code",
   "execution_count": 7,
   "id": "framed-armor",
   "metadata": {
    "scrolled": true
   },
   "outputs": [
    {
     "data": {
      "text/plain": [
       "True"
      ]
     },
     "execution_count": 7,
     "metadata": {},
     "output_type": "execute_result"
    }
   ],
   "source": [
    "list_of_sums = []\n",
    "\n",
    "for i in range(len(data)):\n",
    "    if i+3 <= len(data):\n",
    "        list_of_sums.append(sum(data[i:i+3]))\n",
    "    \n",
    "len(data) - len(list_of_sums) == 2"
   ]
  },
  {
   "cell_type": "code",
   "execution_count": 8,
   "id": "appreciated-alaska",
   "metadata": {},
   "outputs": [
    {
     "data": {
      "text/plain": [
       "1538"
      ]
     },
     "execution_count": 8,
     "metadata": {},
     "output_type": "execute_result"
    }
   ],
   "source": [
    "first = np.array(list_of_sums[:-1])\n",
    "second = np.array(list_of_sums[1:])\n",
    "\n",
    "counter_function(first, second)  "
   ]
  }
 ],
 "metadata": {
  "kernelspec": {
   "display_name": "Python 3",
   "language": "python",
   "name": "python3"
  },
  "language_info": {
   "codemirror_mode": {
    "name": "ipython",
    "version": 3
   },
   "file_extension": ".py",
   "mimetype": "text/x-python",
   "name": "python",
   "nbconvert_exporter": "python",
   "pygments_lexer": "ipython3",
   "version": "3.7.10"
  }
 },
 "nbformat": 4,
 "nbformat_minor": 5
}
