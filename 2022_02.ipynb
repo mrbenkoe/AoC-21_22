{
 "cells": [
  {
   "cell_type": "markdown",
   "id": "bacterial-haven",
   "metadata": {},
   "source": [
    "2022_02/1"
   ]
  },
  {
   "cell_type": "code",
   "execution_count": 1,
   "id": "breeding-adapter",
   "metadata": {},
   "outputs": [],
   "source": [
    "import numpy as np"
   ]
  },
  {
   "cell_type": "code",
   "execution_count": 2,
   "id": "plastic-petite",
   "metadata": {},
   "outputs": [],
   "source": [
    "data = []\n",
    "with open('data/2022_02.txt') as f:   \n",
    "    for line in f.readlines():\n",
    "        data.append(line[0]+line[2])"
   ]
  },
  {
   "cell_type": "code",
   "execution_count": 3,
   "id": "fabulous-parcel",
   "metadata": {},
   "outputs": [],
   "source": [
    "combinations =  {'AX':1+3,  # rock:rock         -> draw\n",
    "                 'AY':2+6,  # rock:paper        -> win\n",
    "                 'AZ':3+0,  # rock:scissors     -> loose\n",
    "                 'BX':1+0,  # paper:rock        -> loose\n",
    "                 'BY':2+3,  # paper:paper       -> draw\n",
    "                 'BZ':3+6,  # paper:scissors    -> win\n",
    "                 'CX':1+6,  # scissors:rock     -> win\n",
    "                 'CY':2+0,  # scissors:paper    -> loose\n",
    "                 'CZ':3+3,} # scissors:scissors -> draw"
   ]
  },
  {
   "cell_type": "code",
   "execution_count": 4,
   "id": "distinguished-stranger",
   "metadata": {},
   "outputs": [
    {
     "name": "stdout",
     "output_type": "stream",
     "text": [
      "Result =  13052\n"
     ]
    }
   ],
   "source": [
    "res = 0\n",
    "for game in data:\n",
    "    res += combinations[game]\n",
    "print('Result = ', res) # 13052"
   ]
  },
  {
   "cell_type": "markdown",
   "id": "greater-cross",
   "metadata": {},
   "source": [
    "2022_02/2"
   ]
  },
  {
   "cell_type": "code",
   "execution_count": 5,
   "id": "ignored-building",
   "metadata": {},
   "outputs": [],
   "source": [
    "combinations =  {'AX':3+0,  # rock:scissors     -> loose\n",
    "                 'AY':1+3,  # rock:rock         -> draw\n",
    "                 'AZ':2+6,  # rock:paper        -> win\n",
    "                 'BX':1+0,  # paper:rock        -> loose\n",
    "                 'BY':2+3,  # paper:paper       -> draw\n",
    "                 'BZ':3+6,  # paper:scissors    -> win\n",
    "                 'CX':2+0,  # scissors:paper    -> loose\n",
    "                 'CY':3+3,  # scissors:scissors -> draw\n",
    "                 'CZ':1+6,} # scissors:rock     -> win"
   ]
  },
  {
   "cell_type": "code",
   "execution_count": 6,
   "id": "hungarian-warehouse",
   "metadata": {},
   "outputs": [
    {
     "name": "stdout",
     "output_type": "stream",
     "text": [
      "Result =  13693\n"
     ]
    }
   ],
   "source": [
    "res = 0\n",
    "for game in data:\n",
    "    res += combinations[game]\n",
    "print('Result = ', res) # 13693"
   ]
  }
 ],
 "metadata": {
  "kernelspec": {
   "display_name": "Python 3",
   "language": "python",
   "name": "python3"
  },
  "language_info": {
   "codemirror_mode": {
    "name": "ipython",
    "version": 3
   },
   "file_extension": ".py",
   "mimetype": "text/x-python",
   "name": "python",
   "nbconvert_exporter": "python",
   "pygments_lexer": "ipython3",
   "version": "3.7.10"
  }
 },
 "nbformat": 4,
 "nbformat_minor": 5
}
