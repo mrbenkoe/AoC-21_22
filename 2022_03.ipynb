{
 "cells": [
  {
   "cell_type": "markdown",
   "id": "about-springfield",
   "metadata": {},
   "source": [
    "2022_03/1"
   ]
  },
  {
   "cell_type": "code",
   "execution_count": 1,
   "id": "progressive-slovakia",
   "metadata": {},
   "outputs": [],
   "source": [
    "import string\n",
    "import numpy as np"
   ]
  },
  {
   "cell_type": "code",
   "execution_count": 2,
   "id": "julian-richards",
   "metadata": {},
   "outputs": [],
   "source": [
    "al_lower = list(string.ascii_lowercase)\n",
    "al_upper = list(string.ascii_uppercase)"
   ]
  },
  {
   "cell_type": "code",
   "execution_count": 3,
   "id": "comprehensive-burning",
   "metadata": {},
   "outputs": [],
   "source": [
    "rs1 = []\n",
    "rs2 = []\n",
    "with open('data/2022_03.txt') as f:\n",
    "    for line in f.readlines():\n",
    "        sep = int(len(line[:-1])/2)\n",
    "        rs1.append(list(line[:-1][:sep]))\n",
    "        rs2.append(list(line[:-1][sep:]))"
   ]
  },
  {
   "cell_type": "code",
   "execution_count": 4,
   "id": "boolean-shakespeare",
   "metadata": {},
   "outputs": [
    {
     "name": "stdout",
     "output_type": "stream",
     "text": [
      "Result = 7793\n"
     ]
    }
   ],
   "source": [
    "result = 0\n",
    "\n",
    "for i, item1 in enumerate(rs1):\n",
    "    item2 = rs2[i]\n",
    "    value = list(set(item1) & set(item2))[0]\n",
    "    \n",
    "    if value in al_lower:\n",
    "        result += al_lower.index(value)+1\n",
    "    elif value in al_upper:\n",
    "        result += al_upper.index(value)+27\n",
    "    else:\n",
    "        print('error')\n",
    "        \n",
    "print('Result =', result) # 7793"
   ]
  },
  {
   "cell_type": "markdown",
   "id": "atomic-illinois",
   "metadata": {},
   "source": [
    "2022_03/2"
   ]
  },
  {
   "cell_type": "code",
   "execution_count": 5,
   "id": "urban-publicity",
   "metadata": {},
   "outputs": [],
   "source": [
    "data = []\n",
    "with open('data/2022_03.txt') as f:\n",
    "    for line in f.readlines():\n",
    "        data.append(line[:-1])"
   ]
  },
  {
   "cell_type": "code",
   "execution_count": 6,
   "id": "allied-integrity",
   "metadata": {},
   "outputs": [],
   "source": [
    "rs1 = []\n",
    "rs2 = []\n",
    "rs3 = []\n",
    "\n",
    "for li in range(0,len(data),3):\n",
    "    rs1.append(data[li])\n",
    "    rs2.append(data[li+1])\n",
    "    rs3.append(data[li+2])"
   ]
  },
  {
   "cell_type": "code",
   "execution_count": 7,
   "id": "homeless-daily",
   "metadata": {},
   "outputs": [
    {
     "name": "stdout",
     "output_type": "stream",
     "text": [
      "Result = 2499\n"
     ]
    }
   ],
   "source": [
    "result = 0\n",
    "\n",
    "for i, item1 in enumerate(rs1):\n",
    "    item2 = rs2[i]\n",
    "    item3 = rs3[i]\n",
    "    value = list(set(item1) & set(item2) & set(item3))[0]\n",
    "    \n",
    "    if value in al_lower:\n",
    "        result += al_lower.index(value)+1\n",
    "    elif value in al_upper:\n",
    "        result += al_upper.index(value)+27\n",
    "    else:\n",
    "        print('error')\n",
    "        \n",
    "print('Result =', result) # 2499"
   ]
  }
 ],
 "metadata": {
  "kernelspec": {
   "display_name": "Python 3",
   "language": "python",
   "name": "python3"
  },
  "language_info": {
   "codemirror_mode": {
    "name": "ipython",
    "version": 3
   },
   "file_extension": ".py",
   "mimetype": "text/x-python",
   "name": "python",
   "nbconvert_exporter": "python",
   "pygments_lexer": "ipython3",
   "version": "3.7.10"
  }
 },
 "nbformat": 4,
 "nbformat_minor": 5
}
