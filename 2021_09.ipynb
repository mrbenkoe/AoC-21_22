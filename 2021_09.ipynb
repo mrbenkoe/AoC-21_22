{
 "cells": [
  {
   "cell_type": "markdown",
   "id": "chief-maintenance",
   "metadata": {},
   "source": [
    "2021_09/1"
   ]
  },
  {
   "cell_type": "code",
   "execution_count": 1,
   "id": "gorgeous-aviation",
   "metadata": {},
   "outputs": [],
   "source": [
    "import numpy as np"
   ]
  },
  {
   "cell_type": "code",
   "execution_count": 2,
   "id": "silver-oasis",
   "metadata": {},
   "outputs": [
    {
     "data": {
      "text/plain": [
       "array([[9, 9, 9, ..., 9, 9, 9],\n",
       "       [9, 6, 5, ..., 4, 5, 9],\n",
       "       [9, 7, 4, ..., 3, 4, 9],\n",
       "       ...,\n",
       "       [9, 2, 1, ..., 5, 8, 9],\n",
       "       [9, 1, 0, ..., 6, 7, 9],\n",
       "       [9, 9, 9, ..., 9, 9, 9]])"
      ]
     },
     "execution_count": 2,
     "metadata": {},
     "output_type": "execute_result"
    }
   ],
   "source": [
    "with open('data/2021_09.txt') as f:\n",
    "    data = f.read().splitlines()\n",
    "\n",
    "for di, d in enumerate(data):\n",
    "    data[di] = [9] + list(map(int,d)) + [9]\n",
    "\n",
    "data = [[9]*len(data[0])] + data + [[9]*len(data[0])]\n",
    "data = np.array(data)\n",
    "data"
   ]
  },
  {
   "cell_type": "code",
   "execution_count": 3,
   "id": "nominated-ladder",
   "metadata": {},
   "outputs": [
    {
     "name": "stdout",
     "output_type": "stream",
     "text": [
      "Result = 508\n"
     ]
    }
   ],
   "source": [
    "res = []\n",
    "\n",
    "for row in range(len(data)-2):\n",
    "    for col in range(len(data[0])-2):\n",
    "        \n",
    "        window = data[row:row+3,col:col+3]\n",
    "        \n",
    "        center = window[1,1]\n",
    "        nbs = min(window[0,1],window[1,0],window[1,2],window[2,1])\n",
    "        \n",
    "        if center < nbs:\n",
    "            res.append(center)\n",
    "\n",
    "result = sum(np.array(res)+1)\n",
    "\n",
    "print('Result =', result) # 508"
   ]
  },
  {
   "cell_type": "markdown",
   "id": "difficult-sleeve",
   "metadata": {},
   "source": [
    "2021_09/2"
   ]
  },
  {
   "cell_type": "code",
   "execution_count": 4,
   "id": "developing-lancaster",
   "metadata": {},
   "outputs": [],
   "source": [
    "with open('data/2021_09.txt') as f:\n",
    "    data = f.read().splitlines()\n",
    "\n",
    "for di, d in enumerate(data):\n",
    "    data[di] = [9] + list(map(int,d)) + [9]\n",
    "\n",
    "data = [[9]*len(data[0])] + data + [[9]*len(data[0])]\n",
    "data = np.array(data)"
   ]
  },
  {
   "cell_type": "code",
   "execution_count": 5,
   "id": "optical-minimum",
   "metadata": {},
   "outputs": [],
   "source": [
    "def find_nbs(p,data): # find neighbours\n",
    "    \n",
    "    nbs = [[p[0],p[1]-1],[p[0],p[1]+1],[p[0]-1,p[1]],[p[0]+1,p[1]]]    \n",
    "    \n",
    "    neighbours = [[np.nan]]\n",
    "    for ni, n in enumerate(nbs):\n",
    "        if n[0] >= 0 and n[0] < len(data) and n[1] >= 0 and n[1] < len(data[0]) and data[n[0],n[1]] < 9:\n",
    "            neighbours.append(n)\n",
    "    neighbours.pop(0)\n",
    "\n",
    "    return neighbours\n",
    "\n",
    "\n",
    "def iterate(pos, pairs, counter, pi, data=data): # iterate over positions / neighbours\n",
    "    \n",
    "    for p in pos:\n",
    "        pos = find_nbs(p, data) # find new neighbors \n",
    "\n",
    "        true_list = [not elem for elem in list(p in pairs[pi] for p in pos)] # check if neighbours were already checked\n",
    "\n",
    "        pos = np.array(pos)[list(np.where(true_list)[0])].tolist() # only keep new neigbours\n",
    "\n",
    "        if pos != []: # check if there are still new neighbours\n",
    "            \n",
    "            for pr in pos: # add new neighbours to pairs\n",
    "                if pr not in pairs[pi]:\n",
    "                    pairs[pi].append(pr)\n",
    "                    \n",
    "            pos, pairs = iterate(pos, pairs, counter, pi) # recursion\n",
    "            \n",
    "    return pos, pairs"
   ]
  },
  {
   "cell_type": "code",
   "execution_count": 6,
   "id": "ultimate-banks",
   "metadata": {},
   "outputs": [
    {
     "name": "stdout",
     "output_type": "stream",
     "text": [
      "Result = 1564640\n",
      "Wall time: 200 ms\n"
     ]
    }
   ],
   "source": [
    "%%time\n",
    "\n",
    "# get position of valleys\n",
    "\n",
    "pos = [] \n",
    "for row in range(len(data)-2):\n",
    "    for col in range(len(data[0])-2):\n",
    "        \n",
    "        window = data[row:row+3,col:col+3]\n",
    "        \n",
    "        center = window[1,1]\n",
    "        nbs = min(window[0,1],window[1,0],window[1,2],window[2,1])\n",
    "        \n",
    "        if center < nbs:\n",
    "            pos.append([row+1,col+1])\n",
    "\n",
    "# iterate over valleys\n",
    "\n",
    "pairs = [[] for _ in pos]\n",
    "\n",
    "for pi, p in enumerate(pos): \n",
    "    \n",
    "    pos = find_nbs(p,data)\n",
    "    for pr in pos:\n",
    "        if pr not in pairs[pi]:\n",
    "            pairs[pi].append(pr)\n",
    "    \n",
    "    pos, pairs = iterate(pos, pairs, 7, pi) \n",
    "\n",
    "print('Result =', np.prod(np.sort([len(pr) for pr in pairs])[-3:])) # 1564640"
   ]
  }
 ],
 "metadata": {
  "kernelspec": {
   "display_name": "Python 3",
   "language": "python",
   "name": "python3"
  },
  "language_info": {
   "codemirror_mode": {
    "name": "ipython",
    "version": 3
   },
   "file_extension": ".py",
   "mimetype": "text/x-python",
   "name": "python",
   "nbconvert_exporter": "python",
   "pygments_lexer": "ipython3",
   "version": "3.7.10"
  }
 },
 "nbformat": 4,
 "nbformat_minor": 5
}
