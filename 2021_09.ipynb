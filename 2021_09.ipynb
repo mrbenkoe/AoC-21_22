{
 "cells": [
  {
   "cell_type": "markdown",
   "id": "eight-fortune",
   "metadata": {},
   "source": [
    "2021_09/1"
   ]
  },
  {
   "cell_type": "code",
   "execution_count": 23,
   "id": "fourth-feedback",
   "metadata": {},
   "outputs": [],
   "source": [
    "import numpy as np"
   ]
  },
  {
   "cell_type": "code",
   "execution_count": 101,
   "id": "partial-craps",
   "metadata": {},
   "outputs": [
    {
     "data": {
      "text/plain": [
       "array([[11, 11, 11, 11, 11, 11, 11, 11, 11, 11, 11, 11],\n",
       "       [11,  2,  1,  9,  9,  9,  4,  3,  2,  1,  0, 11],\n",
       "       [11,  3,  9,  8,  7,  8,  9,  4,  9,  2,  1, 11],\n",
       "       [11,  9,  8,  5,  6,  7,  8,  9,  8,  9,  2, 11],\n",
       "       [11,  8,  7,  6,  7,  8,  9,  6,  7,  8,  9, 11],\n",
       "       [11,  9,  8,  9,  9,  9,  6,  5,  6,  7,  8, 11],\n",
       "       [11, 11, 11, 11, 11, 11, 11, 11, 11, 11, 11, 11]])"
      ]
     },
     "execution_count": 101,
     "metadata": {},
     "output_type": "execute_result"
    }
   ],
   "source": [
    "with open('data/2021_09_test.txt') as f:\n",
    "    data = f.read().splitlines()\n",
    "\n",
    "for di, d in enumerate(data):\n",
    "    data[di] = [11] + list(map(int,d)) + [11]\n",
    "\n",
    "data = [[11]*len(data[0])] + data + [[11]*len(data[0])]\n",
    "data = np.array(data)\n",
    "data"
   ]
  },
  {
   "cell_type": "code",
   "execution_count": 102,
   "id": "understanding-bruce",
   "metadata": {},
   "outputs": [
    {
     "name": "stdout",
     "output_type": "stream",
     "text": [
      "Result = 15\n"
     ]
    }
   ],
   "source": [
    "res = []\n",
    "\n",
    "for row in range(len(data)-2):\n",
    "    for col in range(len(data[0])-2):\n",
    "        \n",
    "        window = data[row:row+3,col:col+3]\n",
    "        \n",
    "        center = window[1,1]\n",
    "        nbs = min(window[0,1],window[1,0],window[1,2],window[2,1])\n",
    "        \n",
    "        if center < nbs:\n",
    "            res.append(center)\n",
    "\n",
    "result = sum(np.array(res)+1)\n",
    "\n",
    "print('Result =', result) # 508"
   ]
  },
  {
   "cell_type": "markdown",
   "id": "compliant-method",
   "metadata": {},
   "source": [
    "2021_09/2"
   ]
  },
  {
   "cell_type": "code",
   "execution_count": 103,
   "id": "adaptive-support",
   "metadata": {},
   "outputs": [
    {
     "data": {
      "text/plain": [
       "array([[11, 11, 11, 11, 11, 11, 11, 11, 11, 11, 11, 11],\n",
       "       [11,  2,  1,  9,  9,  9,  4,  3,  2,  1,  0, 11],\n",
       "       [11,  3,  9,  8,  7,  8,  9,  4,  9,  2,  1, 11],\n",
       "       [11,  9,  8,  5,  6,  7,  8,  9,  8,  9,  2, 11],\n",
       "       [11,  8,  7,  6,  7,  8,  9,  6,  7,  8,  9, 11],\n",
       "       [11,  9,  8,  9,  9,  9,  6,  5,  6,  7,  8, 11],\n",
       "       [11, 11, 11, 11, 11, 11, 11, 11, 11, 11, 11, 11]])"
      ]
     },
     "execution_count": 103,
     "metadata": {},
     "output_type": "execute_result"
    }
   ],
   "source": [
    "data"
   ]
  },
  {
   "cell_type": "code",
   "execution_count": 201,
   "id": "motivated-handle",
   "metadata": {},
   "outputs": [
    {
     "data": {
      "text/plain": [
       "[[1, 2], [1, 10], [3, 3], [5, 7]]"
      ]
     },
     "execution_count": 201,
     "metadata": {},
     "output_type": "execute_result"
    }
   ],
   "source": [
    "pos = []\n",
    "\n",
    "for row in range(len(data)-2):\n",
    "    for col in range(len(data[0])-2):\n",
    "        \n",
    "        window = data[row:row+3,col:col+3]\n",
    "        \n",
    "        center = window[1,1]\n",
    "        nbs = min(window[0,1],window[1,0],window[1,2],window[2,1])\n",
    "        \n",
    "        if center < nbs:\n",
    "            pos.append([row+1,col+1])\n",
    "\n",
    "pos"
   ]
  },
  {
   "cell_type": "code",
   "execution_count": 235,
   "id": "signal-oliver",
   "metadata": {},
   "outputs": [
    {
     "name": "stdout",
     "output_type": "stream",
     "text": [
      "[[1, 2], [1, 2], [2, 3, 3, 4, 4, 5, 5, 6], [], []]\n"
     ]
    }
   ],
   "source": [
    "p = pos[0]\n",
    "# LOOP ''''''''''''''''''''''\n",
    "\n",
    "s = []\n",
    "for p in pos:\n",
    "\n",
    "    low_in_row = list(np.where(data[p[0]] < 9)[0])\n",
    "    low_in_row\n",
    "\n",
    "    split = []\n",
    "    for vi, value in enumerate(low_in_row[:-1]):\n",
    "        if value + 1 == low_in_row[vi + 1]:\n",
    "            split.append(value)\n",
    "            split.append(value+1)          \n",
    "        else:\n",
    "            s.append(split)\n",
    "            split =[]\n",
    "            \n",
    "print(s)"
   ]
  },
  {
   "cell_type": "code",
   "execution_count": 156,
   "id": "expanded-absence",
   "metadata": {},
   "outputs": [
    {
     "data": {
      "text/plain": [
       "array([ 1,  2,  6,  7,  8,  9, 10], dtype=int64)"
      ]
     },
     "execution_count": 156,
     "metadata": {},
     "output_type": "execute_result"
    }
   ],
   "source": []
  },
  {
   "cell_type": "code",
   "execution_count": null,
   "id": "earned-dancing",
   "metadata": {},
   "outputs": [],
   "source": []
  }
 ],
 "metadata": {
  "kernelspec": {
   "display_name": "Python 3",
   "language": "python",
   "name": "python3"
  },
  "language_info": {
   "codemirror_mode": {
    "name": "ipython",
    "version": 3
   },
   "file_extension": ".py",
   "mimetype": "text/x-python",
   "name": "python",
   "nbconvert_exporter": "python",
   "pygments_lexer": "ipython3",
   "version": "3.7.10"
  }
 },
 "nbformat": 4,
 "nbformat_minor": 5
}
