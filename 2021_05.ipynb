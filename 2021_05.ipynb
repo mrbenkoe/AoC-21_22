{
 "cells": [
  {
   "cell_type": "markdown",
   "id": "express-flashing",
   "metadata": {},
   "source": [
    "2021_05/1"
   ]
  },
  {
   "cell_type": "code",
   "execution_count": 1,
   "id": "abstract-double",
   "metadata": {},
   "outputs": [],
   "source": [
    "import numpy as np\n",
    "from collections import Counter"
   ]
  },
  {
   "cell_type": "code",
   "execution_count": 2,
   "id": "funny-identification",
   "metadata": {},
   "outputs": [],
   "source": [
    "data = []\n",
    "with open('data/2021_05.txt') as f:\n",
    "    for line in f.readlines():\n",
    "        data.append(list(np.array([line.split()[val].split(',') for val in [0,2]]).flatten().astype(int)))\n",
    "#data"
   ]
  },
  {
   "cell_type": "code",
   "execution_count": 3,
   "id": "eligible-closer",
   "metadata": {},
   "outputs": [],
   "source": [
    "points = []\n",
    "\n",
    "for i, l in enumerate(data):\n",
    "    \n",
    "    if l[1]==l[3]: # horizontal (y1=y2)\n",
    "        y = l[1]\n",
    "        for x in range(min(l[0],l[2]),max(l[0],l[2])+1):\n",
    "            points += [str(int(x))+' '+str(int(y))]\n",
    "            \n",
    "    elif l[0]==l[2]: # vertical (x1=x2)\n",
    "        x = l[0]\n",
    "        for y in range(min(l[1],l[3]),max(l[1],l[3])+1): \n",
    "            points += [str(int(x))+' '+str(int(y))]\n",
    "    \n",
    "    else: # diagonal\n",
    "        pass"
   ]
  },
  {
   "cell_type": "code",
   "execution_count": 4,
   "id": "racial-taiwan",
   "metadata": {},
   "outputs": [
    {
     "data": {
      "text/plain": [
       "6710"
      ]
     },
     "execution_count": 4,
     "metadata": {},
     "output_type": "execute_result"
    }
   ],
   "source": [
    "def count(points):\n",
    "    counter = 0\n",
    "    for p in Counter(points).most_common():\n",
    "        if p[1] > 1:\n",
    "            counter+=1\n",
    "    return counter\n",
    "        \n",
    "result = count(points) \n",
    "result #6710"
   ]
  },
  {
   "cell_type": "markdown",
   "id": "exact-chest",
   "metadata": {},
   "source": [
    "2021_05/2"
   ]
  },
  {
   "cell_type": "code",
   "execution_count": 5,
   "id": "first-cleaning",
   "metadata": {},
   "outputs": [],
   "source": [
    "points = []\n",
    "\n",
    "for i, l in enumerate(data):\n",
    "    \n",
    "    if l[1]==l[3]: # horizontal (y1=y2)\n",
    "        y = l[1]\n",
    "        for x in range(min(l[0],l[2]),max(l[0],l[2])+1):\n",
    "            points += [str(int(x))+' '+str(int(y))]\n",
    "            \n",
    "    elif l[0]==l[2]: # vertical (x1=x2)\n",
    "        x = l[0]\n",
    "        for y in range(min(l[1],l[3]),max(l[1],l[3])+1): \n",
    "            points += [str(int(x))+' '+str(int(y))]\n",
    "    \n",
    "    else: # diagonal\n",
    "        k = (l[3]-l[1])/(l[2]-l[0])\n",
    "        d = l[1]-k*l[0]\n",
    "\n",
    "        if l[0] < l[2]:\n",
    "            step = 1\n",
    "        else:\n",
    "            step = -1\n",
    "            \n",
    "        for x in range(l[0],l[2]+step,step):\n",
    "            y = k*x+d\n",
    "            points += [str(int(x))+' '+str(int(y))]"
   ]
  },
  {
   "cell_type": "code",
   "execution_count": 6,
   "id": "prospective-electron",
   "metadata": {},
   "outputs": [
    {
     "data": {
      "text/plain": [
       "20121"
      ]
     },
     "execution_count": 6,
     "metadata": {},
     "output_type": "execute_result"
    }
   ],
   "source": [
    "result = count(points) \n",
    "result #20121"
   ]
  }
 ],
 "metadata": {
  "kernelspec": {
   "display_name": "Python 3",
   "language": "python",
   "name": "python3"
  },
  "language_info": {
   "codemirror_mode": {
    "name": "ipython",
    "version": 3
   },
   "file_extension": ".py",
   "mimetype": "text/x-python",
   "name": "python",
   "nbconvert_exporter": "python",
   "pygments_lexer": "ipython3",
   "version": "3.7.10"
  }
 },
 "nbformat": 4,
 "nbformat_minor": 5
}
