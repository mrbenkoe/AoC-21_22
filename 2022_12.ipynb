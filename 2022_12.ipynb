{
 "cells": [
  {
   "cell_type": "markdown",
   "id": "focused-australian",
   "metadata": {},
   "source": [
    "2022_12/1"
   ]
  },
  {
   "cell_type": "code",
   "execution_count": null,
   "id": "according-compound",
   "metadata": {},
   "outputs": [],
   "source": [
    "# WORK IN PROGRESS"
   ]
  },
  {
   "cell_type": "code",
   "execution_count": 47,
   "id": "illegal-event",
   "metadata": {},
   "outputs": [],
   "source": [
    "import numpy as np\n",
    "import string"
   ]
  },
  {
   "cell_type": "code",
   "execution_count": 48,
   "id": "equal-mineral",
   "metadata": {},
   "outputs": [],
   "source": [
    "letters = ['S'] + list(string.ascii_lowercase) + ['E']\n",
    "numbers = [0.5] + list(range(1,27)) + [26.5]\n",
    "\n",
    "dictionary = dict(zip(letters, numbers))"
   ]
  },
  {
   "cell_type": "code",
   "execution_count": 49,
   "id": "superb-karma",
   "metadata": {},
   "outputs": [
    {
     "data": {
      "text/plain": [
       "array([[ 0.5,  1. ,  2. , 17. , 16. , 15. , 14. , 13. ],\n",
       "       [ 1. ,  2. ,  3. , 18. , 25. , 24. , 24. , 12. ],\n",
       "       [ 1. ,  3. ,  3. , 19. , 26. , 26.5, 24. , 11. ],\n",
       "       [ 1. ,  3. ,  3. , 20. , 21. , 22. , 23. , 10. ],\n",
       "       [ 1. ,  2. ,  4. ,  5. ,  6. ,  7. ,  8. ,  9. ]])"
      ]
     },
     "execution_count": 49,
     "metadata": {},
     "output_type": "execute_result"
    }
   ],
   "source": [
    "with open('data/2022_12_test.txt') as f:\n",
    "    lines = f.read().splitlines()\n",
    "\n",
    "data = []\n",
    "for line in lines:\n",
    "    data.append(list(line))\n",
    "\n",
    "for ri, row in enumerate(data):\n",
    "    for ci, col in enumerate(row):\n",
    "        data[ri][ci] = dictionary[col]\n",
    "np.array(data)"
   ]
  },
  {
   "cell_type": "code",
   "execution_count": 50,
   "id": "crude-membership",
   "metadata": {},
   "outputs": [
    {
     "data": {
      "text/plain": [
       "((0, 0), (2, 5))"
      ]
     },
     "execution_count": 50,
     "metadata": {},
     "output_type": "execute_result"
    }
   ],
   "source": [
    "val = 0.5\n",
    "start = [(index, row.index(val)) for index, row in enumerate(data) if val in row]\n",
    "\n",
    "val = 26.5\n",
    "stop = [(index, row.index(val)) for index, row in enumerate(data) if val in row]\n",
    "\n",
    "start[0], stop[0]"
   ]
  },
  {
   "cell_type": "code",
   "execution_count": 52,
   "id": "reflected-distinction",
   "metadata": {},
   "outputs": [],
   "source": [
    "steps = 0\n",
    "\n",
    "pos = start[0]\n",
    "\n"
   ]
  },
  {
   "cell_type": "code",
   "execution_count": null,
   "id": "sitting-richmond",
   "metadata": {},
   "outputs": [],
   "source": []
  }
 ],
 "metadata": {
  "kernelspec": {
   "display_name": "Python 3",
   "language": "python",
   "name": "python3"
  },
  "language_info": {
   "codemirror_mode": {
    "name": "ipython",
    "version": 3
   },
   "file_extension": ".py",
   "mimetype": "text/x-python",
   "name": "python",
   "nbconvert_exporter": "python",
   "pygments_lexer": "ipython3",
   "version": "3.7.10"
  }
 },
 "nbformat": 4,
 "nbformat_minor": 5
}
