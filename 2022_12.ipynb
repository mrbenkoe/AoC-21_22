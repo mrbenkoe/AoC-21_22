{
 "cells": [
  {
   "cell_type": "markdown",
   "id": "distinguished-title",
   "metadata": {},
   "source": [
    "2022_12/1"
   ]
  },
  {
   "cell_type": "code",
   "execution_count": 1,
   "id": "middle-composition",
   "metadata": {},
   "outputs": [],
   "source": [
    "# WORK IN PROGRESS"
   ]
  },
  {
   "cell_type": "code",
   "execution_count": 142,
   "id": "dangerous-copper",
   "metadata": {},
   "outputs": [],
   "source": [
    "import numpy as np\n",
    "import string"
   ]
  },
  {
   "cell_type": "code",
   "execution_count": 143,
   "id": "known-transaction",
   "metadata": {},
   "outputs": [],
   "source": [
    "letters = ['S'] + list(string.ascii_lowercase) + ['E']\n",
    "numbers = [0.5] + list(range(1,27)) + [26.5]\n",
    "\n",
    "dictionary = dict(zip(letters, numbers))"
   ]
  },
  {
   "cell_type": "code",
   "execution_count": 144,
   "id": "requested-gambling",
   "metadata": {},
   "outputs": [
    {
     "data": {
      "text/plain": [
       "array([[ 0.5,  1. ,  2. , 17. , 16. , 15. , 14. , 13. ],\n",
       "       [ 1. ,  2. ,  3. , 18. , 25. , 24. , 24. , 12. ],\n",
       "       [ 1. ,  3. ,  3. , 19. , 26. , 26.5, 24. , 11. ],\n",
       "       [ 1. ,  3. ,  3. , 20. , 21. , 22. , 23. , 10. ],\n",
       "       [ 1. ,  2. ,  4. ,  5. ,  6. ,  7. ,  8. ,  9. ]])"
      ]
     },
     "execution_count": 144,
     "metadata": {},
     "output_type": "execute_result"
    }
   ],
   "source": [
    "with open('data/2022_12_test.txt') as f:\n",
    "    lines = f.read().splitlines()\n",
    "\n",
    "data = []\n",
    "for line in lines:\n",
    "    data.append(list(line))\n",
    "\n",
    "for ri, row in enumerate(data):\n",
    "    for ci, col in enumerate(row):\n",
    "        data[ri][ci] = dictionary[col]\n",
    "np.array(data)"
   ]
  },
  {
   "cell_type": "code",
   "execution_count": 145,
   "id": "behavioral-lexington",
   "metadata": {},
   "outputs": [
    {
     "data": {
      "text/plain": [
       "((0, 0), (2, 5))"
      ]
     },
     "execution_count": 145,
     "metadata": {},
     "output_type": "execute_result"
    }
   ],
   "source": [
    "val = 0.5\n",
    "start = [(index, row.index(val)) for index, row in enumerate(data) if val in row]\n",
    "\n",
    "val = 26.5\n",
    "stop = [(index, row.index(val)) for index, row in enumerate(data) if val in row]\n",
    "\n",
    "start[0], stop[0]"
   ]
  },
  {
   "cell_type": "code",
   "execution_count": 174,
   "id": "familiar-double",
   "metadata": {},
   "outputs": [],
   "source": [
    "def create_options(pos):\n",
    "    \n",
    "    directions = [(pos[0] + 1 , pos[1]),(pos[0] - 1 , pos[1]),(pos[0], pos[1] + 1),(pos[0], pos[1] - 1)] # r l u d\n",
    "    \n",
    "    options = []\n",
    "    for di in directions:\n",
    "        if (di[0] >= 0) & (di[1] >= 0) & (di < (len(data)-1,len(data[0])-1,)):\n",
    "            options.append(di)\n",
    "            \n",
    "    return options"
   ]
  },
  {
   "cell_type": "code",
   "execution_count": 175,
   "id": "prescription-comparative",
   "metadata": {},
   "outputs": [],
   "source": [
    "def check_height(options, pos):\n",
    "\n",
    "    accessible = []\n",
    "    for opt in options:\n",
    "        if data[opt[0]][opt[1]]-data[pos[0]][pos[1]] < 2:\n",
    "            accessible.append(opt)\n",
    "            \n",
    "    return accessible"
   ]
  },
  {
   "cell_type": "code",
   "execution_count": 176,
   "id": "seasonal-portuguese",
   "metadata": {},
   "outputs": [],
   "source": [
    "def check_visited(accessible, walked):\n",
    "    \n",
    "    new_places = []\n",
    "    for acc in accessible:\n",
    "        if acc not in walked:\n",
    "            new_places.append(acc)\n",
    "            \n",
    "    return new_places"
   ]
  },
  {
   "cell_type": "code",
   "execution_count": 179,
   "id": "canadian-london",
   "metadata": {},
   "outputs": [
    {
     "name": "stdout",
     "output_type": "stream",
     "text": [
      "pos        [(0, 0)]\n",
      "pos        [(1, 0)]\n",
      "pos        [(2, 0)]\n",
      "pos        [(3, 0)]\n",
      "pos        [(4, 0)]\n",
      "pos        [(4, 1)]\n",
      "pos        [(3, 1)]\n",
      "pos        [(2, 1)]\n",
      "pos        [(1, 1)]\n",
      "pos        [(0, 1)]\n",
      "pos        [(0, 2)]\n",
      "pos        [(1, 2)]\n",
      "pos        [(2, 2)]\n",
      "pos        [(3, 2)]\n",
      "pos        [(4, 2)]\n",
      "pos        [(4, 3)]\n",
      "pos        [(4, 4)]\n",
      "pos        [(4, 5)]\n",
      "pos        [(4, 6)]\n",
      "len(accessible) = 0 steps =  18\n"
     ]
    }
   ],
   "source": [
    "steps = 0\n",
    "\n",
    "pos = start[0]\n",
    "print('pos       ',[pos])\n",
    "\n",
    "walked = [pos]\n",
    "\n",
    "for i in range(100):\n",
    "    \n",
    "    if pos == stop[0]:\n",
    "        print('Finished','steps = ',steps)\n",
    "    else:\n",
    "    \n",
    "        options = create_options(pos)\n",
    "        #print('options   ',options)\n",
    "\n",
    "        accessible = check_height(options, pos)\n",
    "        #print('accessible',accessible)\n",
    "\n",
    "        new_places = check_visited(accessible, walked)\n",
    "        #print('new_places',new_places)    \n",
    "\n",
    "        if len(new_places) > 0:\n",
    "            pos_new = new_places[0] # change here to take other 8or shortest distance to stop\n",
    "        else:\n",
    "            print('len(accessible) = 0','steps = ',steps)\n",
    "            break\n",
    "\n",
    "        pos = pos_new\n",
    "\n",
    "        walked.append(pos)\n",
    "\n",
    "        steps += 1\n",
    "\n",
    "        print('pos       ',[pos])\n"
   ]
  },
  {
   "cell_type": "code",
   "execution_count": null,
   "id": "apparent-charger",
   "metadata": {},
   "outputs": [],
   "source": []
  },
  {
   "cell_type": "code",
   "execution_count": null,
   "id": "short-singapore",
   "metadata": {},
   "outputs": [],
   "source": []
  }
 ],
 "metadata": {
  "kernelspec": {
   "display_name": "Python 3",
   "language": "python",
   "name": "python3"
  },
  "language_info": {
   "codemirror_mode": {
    "name": "ipython",
    "version": 3
   },
   "file_extension": ".py",
   "mimetype": "text/x-python",
   "name": "python",
   "nbconvert_exporter": "python",
   "pygments_lexer": "ipython3",
   "version": "3.7.10"
  }
 },
 "nbformat": 4,
 "nbformat_minor": 5
}
