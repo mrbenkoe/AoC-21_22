{
 "cells": [
  {
   "cell_type": "markdown",
   "id": "suspected-preference",
   "metadata": {},
   "source": [
    "2022_04/1"
   ]
  },
  {
   "cell_type": "code",
   "execution_count": 1,
   "id": "educated-startup",
   "metadata": {},
   "outputs": [],
   "source": [
    "with open('data/2022_04.txt') as f:\n",
    "    data = f.read().splitlines()"
   ]
  },
  {
   "cell_type": "code",
   "execution_count": 2,
   "id": "indoor-netherlands",
   "metadata": {},
   "outputs": [
    {
     "data": {
      "text/plain": [
       "466"
      ]
     },
     "execution_count": 2,
     "metadata": {},
     "output_type": "execute_result"
    }
   ],
   "source": [
    "result = 0\n",
    "\n",
    "for pair in data:\n",
    "    split = pair.split(',')\n",
    "    \n",
    "    first = list(map(int, split[0].split('-')))\n",
    "    second = list(map(int, split[1].split('-')))\n",
    "    \n",
    "    if first[0] >= second[0] and first[1] <= second[1]:\n",
    "        x = 1\n",
    "    else:\n",
    "        x = 0\n",
    "    if second[0] >= first[0] and second[1] <= first[1]:\n",
    "        y = 1\n",
    "    else:\n",
    "        y = 0\n",
    "    \n",
    "    if x + y > 0:\n",
    "        result += 1\n",
    "        \n",
    "result # 466"
   ]
  },
  {
   "cell_type": "markdown",
   "id": "expected-destination",
   "metadata": {},
   "source": [
    "2022_04/2"
   ]
  },
  {
   "cell_type": "code",
   "execution_count": 3,
   "id": "primary-trademark",
   "metadata": {},
   "outputs": [
    {
     "data": {
      "text/plain": [
       "865"
      ]
     },
     "execution_count": 3,
     "metadata": {},
     "output_type": "execute_result"
    }
   ],
   "source": [
    "result = 0\n",
    "\n",
    "for pair in data:\n",
    "    split = pair.split(',')\n",
    "    \n",
    "    first = list(map(int, split[0].split('-')))\n",
    "    second = list(map(int, split[1].split('-')))\n",
    "    \n",
    "    comb = list(set(range(first[0],first[1]+1)) & set(range(second[0],second[1]+1)))\n",
    "\n",
    "    if comb != []:\n",
    "        result += 1\n",
    "        \n",
    "result # 865"
   ]
  }
 ],
 "metadata": {
  "kernelspec": {
   "display_name": "Python 3",
   "language": "python",
   "name": "python3"
  },
  "language_info": {
   "codemirror_mode": {
    "name": "ipython",
    "version": 3
   },
   "file_extension": ".py",
   "mimetype": "text/x-python",
   "name": "python",
   "nbconvert_exporter": "python",
   "pygments_lexer": "ipython3",
   "version": "3.7.10"
  }
 },
 "nbformat": 4,
 "nbformat_minor": 5
}
