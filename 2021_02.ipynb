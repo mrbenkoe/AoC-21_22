{
 "cells": [
  {
   "cell_type": "markdown",
   "id": "grand-supply",
   "metadata": {},
   "source": [
    "2021_02/1"
   ]
  },
  {
   "cell_type": "code",
   "execution_count": 1,
   "id": "substantial-anniversary",
   "metadata": {},
   "outputs": [],
   "source": [
    "import pandas as pd\n",
    "import numpy as np"
   ]
  },
  {
   "cell_type": "code",
   "execution_count": 2,
   "id": "outside-dancing",
   "metadata": {},
   "outputs": [],
   "source": [
    "data = list(pd.read_csv('data/2021_02.txt',header=None)[0])"
   ]
  },
  {
   "cell_type": "code",
   "execution_count": 3,
   "id": "developing-bishop",
   "metadata": {},
   "outputs": [],
   "source": [
    "forward = []\n",
    "down = []\n",
    "up = []\n",
    "\n",
    "for val in data:\n",
    "    value = int(val.split()[1])\n",
    "    if 'forward' in val:\n",
    "        forward.append(value)\n",
    "    if 'down' in val:\n",
    "        down.append(value)\n",
    "    if 'up' in val:\n",
    "        up.append(value)"
   ]
  },
  {
   "cell_type": "code",
   "execution_count": 4,
   "id": "delayed-ancient",
   "metadata": {},
   "outputs": [
    {
     "data": {
      "text/plain": [
       "2147104"
      ]
     },
     "execution_count": 4,
     "metadata": {},
     "output_type": "execute_result"
    }
   ],
   "source": [
    "res = sum(forward) * (sum(down) - sum(up))\n",
    "res #2147104"
   ]
  },
  {
   "cell_type": "markdown",
   "id": "congressional-target",
   "metadata": {},
   "source": [
    "2021_02/2"
   ]
  },
  {
   "cell_type": "code",
   "execution_count": 5,
   "id": "recreational-democracy",
   "metadata": {},
   "outputs": [],
   "source": [
    "data = list(pd.read_csv('data/2021_02.txt',header=None)[0])"
   ]
  },
  {
   "cell_type": "code",
   "execution_count": 6,
   "id": "committed-cotton",
   "metadata": {},
   "outputs": [
    {
     "name": "stdout",
     "output_type": "stream",
     "text": [
      "1832 1116059\n"
     ]
    }
   ],
   "source": [
    "horizontal = 0\n",
    "depth = 0\n",
    "aim = 0\n",
    "\n",
    "for val in data:\n",
    "    value = int(val.split()[1])\n",
    "    if 'forward' in val:\n",
    "        horizontal += value\n",
    "        depth = depth + aim * value\n",
    "    if 'down' in val:\n",
    "        aim += value\n",
    "    if 'up' in val:\n",
    "        aim -= value"
   ]
  },
  {
   "cell_type": "code",
   "execution_count": 7,
   "id": "surprised-christopher",
   "metadata": {},
   "outputs": [
    {
     "data": {
      "text/plain": [
       "2044620088"
      ]
     },
     "execution_count": 7,
     "metadata": {},
     "output_type": "execute_result"
    }
   ],
   "source": [
    "res = horizontal * depth\n",
    "res #2044620088"
   ]
  }
 ],
 "metadata": {
  "kernelspec": {
   "display_name": "Python 3",
   "language": "python",
   "name": "python3"
  },
  "language_info": {
   "codemirror_mode": {
    "name": "ipython",
    "version": 3
   },
   "file_extension": ".py",
   "mimetype": "text/x-python",
   "name": "python",
   "nbconvert_exporter": "python",
   "pygments_lexer": "ipython3",
   "version": "3.7.10"
  }
 },
 "nbformat": 4,
 "nbformat_minor": 5
}
