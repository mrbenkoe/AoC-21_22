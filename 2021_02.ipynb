{
 "cells": [
  {
   "cell_type": "markdown",
   "id": "capital-sleeping",
   "metadata": {},
   "source": [
    "# 02/1"
   ]
  },
  {
   "cell_type": "code",
   "execution_count": 1,
   "id": "mental-magnitude",
   "metadata": {},
   "outputs": [],
   "source": [
    "import pandas as pd\n",
    "import numpy as np"
   ]
  },
  {
   "cell_type": "code",
   "execution_count": 2,
   "id": "exciting-housing",
   "metadata": {},
   "outputs": [
    {
     "data": {
      "text/plain": [
       "'What do you get if you multiply your final horizontal position by your final depth?'"
      ]
     },
     "execution_count": 2,
     "metadata": {},
     "output_type": "execute_result"
    }
   ],
   "source": [
    "'''What do you get if you multiply your final horizontal position by your final depth?'''"
   ]
  },
  {
   "cell_type": "code",
   "execution_count": 3,
   "id": "numerous-triangle",
   "metadata": {},
   "outputs": [],
   "source": [
    "data = list(pd.read_csv('data/2021_02.txt',header=None)[0])\n",
    "#data"
   ]
  },
  {
   "cell_type": "code",
   "execution_count": 4,
   "id": "measured-portuguese",
   "metadata": {},
   "outputs": [
    {
     "data": {
      "text/plain": [
       "1000"
      ]
     },
     "execution_count": 4,
     "metadata": {},
     "output_type": "execute_result"
    }
   ],
   "source": [
    "len(data)"
   ]
  },
  {
   "cell_type": "code",
   "execution_count": 5,
   "id": "welcome-aerospace",
   "metadata": {},
   "outputs": [],
   "source": [
    "forward = []\n",
    "down = []\n",
    "up = []\n",
    "\n",
    "for val in data:\n",
    "    value = int(val.split()[1])\n",
    "    if 'forward' in val:\n",
    "        forward.append(value)\n",
    "    if 'down' in val:\n",
    "        down.append(value)\n",
    "    if 'up' in val:\n",
    "        up.append(value)"
   ]
  },
  {
   "cell_type": "code",
   "execution_count": 6,
   "id": "compressed-father",
   "metadata": {},
   "outputs": [
    {
     "data": {
      "text/plain": [
       "0"
      ]
     },
     "execution_count": 6,
     "metadata": {},
     "output_type": "execute_result"
    }
   ],
   "source": [
    "len(data) - len(forward) - len(down) - len(up)"
   ]
  },
  {
   "cell_type": "code",
   "execution_count": 7,
   "id": "ordered-engine",
   "metadata": {},
   "outputs": [
    {
     "data": {
      "text/plain": [
       "2147104"
      ]
     },
     "execution_count": 7,
     "metadata": {},
     "output_type": "execute_result"
    }
   ],
   "source": [
    "res = sum(forward) * (sum(down) - sum(up))\n",
    "res"
   ]
  },
  {
   "cell_type": "markdown",
   "id": "prospective-bedroom",
   "metadata": {},
   "source": [
    "# 02/2"
   ]
  },
  {
   "cell_type": "code",
   "execution_count": 8,
   "id": "unsigned-density",
   "metadata": {},
   "outputs": [
    {
     "data": {
      "text/plain": [
       "'\\nWhat do you get if you multiply your final horizontal position by your final depth?\\n\\na_new = a_old + DOWN\\na_new = a_old - UP\\n    \\nh_new = h_old + FORWARD\\nd_new = d_old + a_old * FORWARD\\n    \\n'"
      ]
     },
     "execution_count": 8,
     "metadata": {},
     "output_type": "execute_result"
    }
   ],
   "source": [
    "'''\n",
    "What do you get if you multiply your final horizontal position by your final depth?\n",
    "\n",
    "a_new = a_old + DOWN\n",
    "a_new = a_old - UP\n",
    "    \n",
    "h_new = h_old + FORWARD\n",
    "d_new = d_old + a_old * FORWARD\n",
    "    \n",
    "'''"
   ]
  },
  {
   "cell_type": "code",
   "execution_count": 9,
   "id": "looking-welcome",
   "metadata": {},
   "outputs": [],
   "source": [
    "data = list(pd.read_csv('data/2021_02.txt',header=None)[0])\n",
    "#data"
   ]
  },
  {
   "cell_type": "code",
   "execution_count": 10,
   "id": "directed-sapphire",
   "metadata": {},
   "outputs": [
    {
     "name": "stdout",
     "output_type": "stream",
     "text": [
      "1832 1116059\n"
     ]
    }
   ],
   "source": [
    "horizontal = 0\n",
    "depth = 0\n",
    "aim = 0\n",
    "\n",
    "for val in data:\n",
    "    value = int(val.split()[1])\n",
    "    if 'forward' in val:\n",
    "        horizontal += value\n",
    "        depth = depth + aim * value\n",
    "    if 'down' in val:\n",
    "        aim += value\n",
    "    if 'up' in val:\n",
    "        aim -= value\n",
    "\n",
    "print(horizontal, depth)"
   ]
  },
  {
   "cell_type": "code",
   "execution_count": 11,
   "id": "focused-break",
   "metadata": {},
   "outputs": [
    {
     "data": {
      "text/plain": [
       "2044620088"
      ]
     },
     "execution_count": 11,
     "metadata": {},
     "output_type": "execute_result"
    }
   ],
   "source": [
    "res = horizontal * depth\n",
    "res"
   ]
  }
 ],
 "metadata": {
  "kernelspec": {
   "display_name": "Python 3",
   "language": "python",
   "name": "python3"
  },
  "language_info": {
   "codemirror_mode": {
    "name": "ipython",
    "version": 3
   },
   "file_extension": ".py",
   "mimetype": "text/x-python",
   "name": "python",
   "nbconvert_exporter": "python",
   "pygments_lexer": "ipython3",
   "version": "3.7.10"
  }
 },
 "nbformat": 4,
 "nbformat_minor": 5
}
