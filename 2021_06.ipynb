{
 "cells": [
  {
   "cell_type": "markdown",
   "metadata": {},
   "source": [
    "2021_06/1+2"
   ]
  },
  {
   "cell_type": "code",
   "execution_count": 1,
   "metadata": {},
   "outputs": [],
   "source": [
    "import numpy as np\n",
    "from collections import Counter"
   ]
  },
  {
   "cell_type": "code",
   "execution_count": 2,
   "metadata": {},
   "outputs": [],
   "source": [
    "with open('data/2021_06.txt') as f:\n",
    "    raw_data = np.array(list((map(int, f.readlines()[0].split(',')))))\n",
    "    \n",
    "c = Counter(raw_data)"
   ]
  },
  {
   "cell_type": "code",
   "execution_count": 3,
   "metadata": {},
   "outputs": [
    {
     "name": "stdout",
     "output_type": "stream",
     "text": [
      "358214\n",
      "1622533344325\n"
     ]
    }
   ],
   "source": [
    "for days in [80,256]:\n",
    "    \n",
    "    data = []\n",
    "    for val in range(0,9):\n",
    "        data.append(c[val])\n",
    "    data = [data[:7],data[7:]]\n",
    "    \n",
    "    for i in range(days):\n",
    "        birth = data[0][0]\n",
    "        data = data[0][1:]+[birth+data[1][0]],data[1][1:]+[birth]\n",
    "\n",
    "    result = sum(data[0]+data[1])\n",
    "    print(result) # 358214, 1622533344325"
   ]
  }
 ],
 "metadata": {
  "kernelspec": {
   "display_name": "Python 3",
   "language": "python",
   "name": "python3"
  },
  "language_info": {
   "codemirror_mode": {
    "name": "ipython",
    "version": 3
   },
   "file_extension": ".py",
   "mimetype": "text/x-python",
   "name": "python",
   "nbconvert_exporter": "python",
   "pygments_lexer": "ipython3",
   "version": "3.7.8"
  }
 },
 "nbformat": 4,
 "nbformat_minor": 5
}
