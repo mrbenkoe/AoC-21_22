{
 "cells": [
  {
   "cell_type": "markdown",
   "id": "solved-beverage",
   "metadata": {},
   "source": [
    "2021_06/1"
   ]
  },
  {
   "cell_type": "code",
   "execution_count": 1,
   "id": "honey-contents",
   "metadata": {},
   "outputs": [],
   "source": [
    "import numpy as np\n",
    "import ray\n",
    "import time\n",
    "from tqdm import tqdm"
   ]
  },
  {
   "cell_type": "code",
   "execution_count": 2,
   "id": "industrial-finish",
   "metadata": {},
   "outputs": [],
   "source": [
    "with open('data/2021_06.txt') as f:\n",
    "    data = np.array(list((map(int, f.readlines()[0].split(',')))))"
   ]
  },
  {
   "cell_type": "code",
   "execution_count": 3,
   "id": "catholic-memorial",
   "metadata": {},
   "outputs": [],
   "source": [
    "@ray.remote\n",
    "def simulate(data, number_of_days):\n",
    "        \n",
    "    for day in range(1,number_of_days+1):\n",
    "        \n",
    "        data = data - 1\n",
    "        if (data<0).any() == True:\n",
    "            negative = np.where(data<0)[0]\n",
    "            data[negative] = 6\n",
    "            data = np.append(data,[8]*len(negative))\n",
    "    \n",
    "    return len(data)"
   ]
  },
  {
   "cell_type": "code",
   "execution_count": 7,
   "id": "fancy-certificate",
   "metadata": {},
   "outputs": [
    {
     "name": "stderr",
     "output_type": "stream",
     "text": [
      "2022-12-02 09:07:03,191\tINFO resource_spec.py:231 -- Starting Ray with 7.71 GiB memory available for workers and up to 3.87 GiB for objects. You can adjust these settings with ray.init(memory=<bytes>, object_store_memory=<bytes>).\n",
      "2022-12-02 09:07:03,431\tINFO services.py:1193 -- View the Ray dashboard at \u001b[1m\u001b[32mlocalhost:8265\u001b[39m\u001b[22m\n",
      "2022-12-02 09:07:06,991\tWARNING worker.py:1134 -- The dashboard on node IWT-PC-24 failed with the following error:\n",
      "Traceback (most recent call last):\n",
      "  File \"C:\\Users\\mrbenkoe\\Miniconda3\\envs\\ds_env\\lib\\site-packages\\ray\\dashboard/dashboard.py\", line 960, in <module>\n",
      "    metrics_export_address=metrics_export_address)\n",
      "  File \"C:\\Users\\mrbenkoe\\Miniconda3\\envs\\ds_env\\lib\\site-packages\\ray\\dashboard/dashboard.py\", line 513, in __init__\n",
      "    build_dir = setup_static_dir(self.app)\n",
      "  File \"C:\\Users\\mrbenkoe\\Miniconda3\\envs\\ds_env\\lib\\site-packages\\ray\\dashboard/dashboard.py\", line 414, in setup_static_dir\n",
      "    \"&& npm run build)\", build_dir)\n",
      "FileNotFoundError: [Errno 2] Dashboard build directory not found. If installing from source, please follow the additional steps required to build the dashboard(cd python/ray/dashboard/client && npm ci && npm run build): 'C:\\\\Users\\\\mrbenkoe\\\\Miniconda3\\\\envs\\\\ds_env\\\\lib\\\\site-packages\\\\ray\\\\dashboard\\\\client/build'\n",
      "\n"
     ]
    }
   ],
   "source": [
    "try:\n",
    "    ray.shutdown()\n",
    "    time.sleep(1)\n",
    "except:\n",
    "    pass\n",
    "\n",
    "num_cpus = 4\n",
    "ray.init(num_cpus=num_cpus,ignore_reinit_error=True)\n",
    "time.sleep(1)"
   ]
  },
  {
   "cell_type": "code",
   "execution_count": 8,
   "id": "smaller-monitoring",
   "metadata": {},
   "outputs": [
    {
     "name": "stdout",
     "output_type": "stream",
     "text": [
      "Result =  358214\n",
      "Wall time: 3.73 s\n"
     ]
    }
   ],
   "source": [
    "%%time\n",
    "\n",
    "days = 80\n",
    "\n",
    "input_list = []\n",
    "for dataset in np.array_split(data, num_cpus):\n",
    "    input_list.append(simulate.remote(dataset, days))\n",
    "\n",
    "output_list = []\n",
    "for ipt in input_list:\n",
    "    output_list.append(ray.get([ipt]))\n",
    "    \n",
    "ray.shutdown()\n",
    "\n",
    "print('Result = ',sum(np.array(output_list).flatten())) # 358214 [t = 3.73 s]"
   ]
  },
  {
   "cell_type": "markdown",
   "id": "declared-appearance",
   "metadata": {},
   "source": [
    "2021_06/2"
   ]
  },
  {
   "cell_type": "markdown",
   "id": "personalized-madison",
   "metadata": {},
   "source": [
    "...to slow."
   ]
  }
 ],
 "metadata": {
  "kernelspec": {
   "display_name": "Python 3",
   "language": "python",
   "name": "python3"
  },
  "language_info": {
   "codemirror_mode": {
    "name": "ipython",
    "version": 3
   },
   "file_extension": ".py",
   "mimetype": "text/x-python",
   "name": "python",
   "nbconvert_exporter": "python",
   "pygments_lexer": "ipython3",
   "version": "3.7.10"
  }
 },
 "nbformat": 4,
 "nbformat_minor": 5
}
