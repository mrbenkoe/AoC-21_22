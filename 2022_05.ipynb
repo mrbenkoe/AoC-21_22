{
 "cells": [
  {
   "cell_type": "markdown",
   "id": "initial-complaint",
   "metadata": {},
   "source": [
    "2022_05/1"
   ]
  },
  {
   "cell_type": "code",
   "execution_count": 1,
   "id": "approved-assault",
   "metadata": {},
   "outputs": [],
   "source": [
    "import numpy as np\n",
    "import pandas as pd"
   ]
  },
  {
   "cell_type": "code",
   "execution_count": 2,
   "id": "unable-weather",
   "metadata": {},
   "outputs": [],
   "source": [
    "def readin(filename='data/2022_05.txt'):\n",
    "    \n",
    "    header = []\n",
    "    with open(filename) as f:\n",
    "        for line in f.readlines():\n",
    "            if len(line) != 1:\n",
    "                header.append(line[:-1])\n",
    "            else:\n",
    "                break\n",
    "\n",
    "    data = []\n",
    "    for hi in range(len(header)-1):\n",
    "        res = header[hi][1:-1:4]\n",
    "        data.append(list(res))\n",
    "\n",
    "    stacks = []\n",
    "    for d in np.array(data).transpose():\n",
    "        d = list(d)\n",
    "        while ' ' in d:\n",
    "            d.remove(' ')\n",
    "        stacks.append(d)\n",
    "\n",
    "    tasks = []\n",
    "    with open(filename) as f:\n",
    "        for line in f.readlines():\n",
    "            if 'move' in line:\n",
    "                if '\\n' in line:\n",
    "                    line = line[:-1]\n",
    "                tasks.append(line.split(' '))\n",
    "                \n",
    "    return stacks, tasks"
   ]
  },
  {
   "cell_type": "code",
   "execution_count": 3,
   "id": "little-respect",
   "metadata": {},
   "outputs": [
    {
     "data": {
      "text/plain": [
       "'QNHWJVJZW'"
      ]
     },
     "execution_count": 3,
     "metadata": {},
     "output_type": "execute_result"
    }
   ],
   "source": [
    "stacks, tasks = readin()\n",
    "\n",
    "for t in tasks:\n",
    "    amount = int(t[1])\n",
    "    start = int(t[3])-1\n",
    "    stop = int(t[5])-1\n",
    "    \n",
    "    for a in range(amount):\n",
    "        stacks[stop] = list(stacks[start][0])+stacks[stop]\n",
    "        stacks[start].pop(0)\n",
    "\n",
    "result = ''\n",
    "for s in stacks:\n",
    "    result += s[0]\n",
    "    \n",
    "result # QNHWJVJZW"
   ]
  },
  {
   "cell_type": "markdown",
   "id": "unique-highway",
   "metadata": {},
   "source": [
    "2022_05/2"
   ]
  },
  {
   "cell_type": "code",
   "execution_count": 4,
   "id": "incorrect-growing",
   "metadata": {},
   "outputs": [
    {
     "data": {
      "text/plain": [
       "'BPCZJLFJW'"
      ]
     },
     "execution_count": 4,
     "metadata": {},
     "output_type": "execute_result"
    }
   ],
   "source": [
    "stacks, tasks = readin()\n",
    "\n",
    "for t in tasks:\n",
    "    amount = int(t[1])\n",
    "    start = int(t[3])-1\n",
    "    stop = int(t[5])-1\n",
    "    \n",
    "    stacks[stop] = list(stacks[start][:amount])+stacks[stop]   \n",
    "    for a in range(amount):\n",
    "        stacks[start].pop(0)\n",
    "\n",
    "result = ''\n",
    "for s in stacks:\n",
    "    result += s[0]\n",
    "    \n",
    "result # BPCZJLFJW"
   ]
  }
 ],
 "metadata": {
  "kernelspec": {
   "display_name": "Python 3",
   "language": "python",
   "name": "python3"
  },
  "language_info": {
   "codemirror_mode": {
    "name": "ipython",
    "version": 3
   },
   "file_extension": ".py",
   "mimetype": "text/x-python",
   "name": "python",
   "nbconvert_exporter": "python",
   "pygments_lexer": "ipython3",
   "version": "3.7.10"
  }
 },
 "nbformat": 4,
 "nbformat_minor": 5
}
