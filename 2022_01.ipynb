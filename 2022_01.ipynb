{
 "cells": [
  {
   "cell_type": "markdown",
   "id": "needed-african",
   "metadata": {},
   "source": [
    "2022_01/1"
   ]
  },
  {
   "cell_type": "code",
   "execution_count": 11,
   "id": "common-mystery",
   "metadata": {},
   "outputs": [],
   "source": [
    "import numpy as np"
   ]
  },
  {
   "cell_type": "code",
   "execution_count": 12,
   "id": "mechanical-grass",
   "metadata": {},
   "outputs": [
    {
     "name": "stdout",
     "output_type": "stream",
     "text": [
      "Result = 68923\n"
     ]
    }
   ],
   "source": [
    "small_list = []\n",
    "big_list = []\n",
    "\n",
    "with open('data/2022_01.txt') as f:\n",
    "    \n",
    "    for line in f.readlines():\n",
    "        \n",
    "        if line != '\\n':\n",
    "            small_list.append(int(line))\n",
    "        else:\n",
    "            big_list += [small_list]\n",
    "            small_list = []\n",
    "\n",
    "sum_list = []\n",
    "for sl in big_list:\n",
    "    sum_list.append(sum(sl))\n",
    "\n",
    "result = max(sum_list)\n",
    "print('Result =',result) # 68923"
   ]
  },
  {
   "cell_type": "markdown",
   "id": "affiliated-publication",
   "metadata": {},
   "source": [
    "2022_01/2"
   ]
  },
  {
   "cell_type": "code",
   "execution_count": 21,
   "id": "backed-logging",
   "metadata": {},
   "outputs": [
    {
     "name": "stdout",
     "output_type": "stream",
     "text": [
      "Result = 200044\n"
     ]
    }
   ],
   "source": [
    "result = sum(np.sort(sum_list)[-3:])\n",
    "print('Result =',result) #200044"
   ]
  }
 ],
 "metadata": {
  "kernelspec": {
   "display_name": "Python 3",
   "language": "python",
   "name": "python3"
  },
  "language_info": {
   "codemirror_mode": {
    "name": "ipython",
    "version": 3
   },
   "file_extension": ".py",
   "mimetype": "text/x-python",
   "name": "python",
   "nbconvert_exporter": "python",
   "pygments_lexer": "ipython3",
   "version": "3.7.10"
  }
 },
 "nbformat": 4,
 "nbformat_minor": 5
}
