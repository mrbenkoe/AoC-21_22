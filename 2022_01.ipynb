{
 "cells": [
  {
   "cell_type": "markdown",
   "id": "provincial-package",
   "metadata": {},
   "source": [
    "2022_01/1"
   ]
  },
  {
   "cell_type": "code",
   "execution_count": 1,
   "id": "local-equilibrium",
   "metadata": {},
   "outputs": [],
   "source": [
    "import numpy as np"
   ]
  },
  {
   "cell_type": "code",
   "execution_count": 2,
   "id": "molecular-static",
   "metadata": {},
   "outputs": [
    {
     "name": "stdout",
     "output_type": "stream",
     "text": [
      "Result 1 = 68923\n"
     ]
    }
   ],
   "source": [
    "big_list = []\n",
    "small_list = []\n",
    "\n",
    "with open('data/2022_01.txt') as f:  \n",
    "    \n",
    "    for line in f.readlines():\n",
    "        \n",
    "        if line != '\\n':\n",
    "            small_list.append(int(line))\n",
    "        else:\n",
    "            big_list.append(sum(small_list))\n",
    "            small_list = []\n",
    "\n",
    "\n",
    "result = max(big_list)\n",
    "print('Result 1 =',result) #68923"
   ]
  },
  {
   "cell_type": "markdown",
   "id": "banned-gravity",
   "metadata": {},
   "source": [
    "2022_01/2"
   ]
  },
  {
   "cell_type": "code",
   "execution_count": 3,
   "id": "beautiful-kingston",
   "metadata": {},
   "outputs": [
    {
     "name": "stdout",
     "output_type": "stream",
     "text": [
      "Result 2 = 200044\n"
     ]
    }
   ],
   "source": [
    "result2 = sum(np.sort(big_list)[-3:])\n",
    "print('Result 2 =',result2) #200044"
   ]
  }
 ],
 "metadata": {
  "kernelspec": {
   "display_name": "Python 3",
   "language": "python",
   "name": "python3"
  },
  "language_info": {
   "codemirror_mode": {
    "name": "ipython",
    "version": 3
   },
   "file_extension": ".py",
   "mimetype": "text/x-python",
   "name": "python",
   "nbconvert_exporter": "python",
   "pygments_lexer": "ipython3",
   "version": "3.7.10"
  }
 },
 "nbformat": 4,
 "nbformat_minor": 5
}
