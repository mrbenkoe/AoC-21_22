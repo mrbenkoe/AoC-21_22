{
 "cells": [
  {
   "cell_type": "markdown",
   "id": "quantitative-centre",
   "metadata": {},
   "source": [
    "2021_07/1"
   ]
  },
  {
   "cell_type": "code",
   "execution_count": 1,
   "id": "daily-factory",
   "metadata": {},
   "outputs": [],
   "source": [
    "import numpy as np\n",
    "from tqdm import tqdm "
   ]
  },
  {
   "cell_type": "code",
   "execution_count": 2,
   "id": "municipal-raising",
   "metadata": {},
   "outputs": [],
   "source": [
    "with open('data/2021_07.txt') as f:\n",
    "    data = list(map(int, f.read().splitlines()[0].split(',')))"
   ]
  },
  {
   "cell_type": "code",
   "execution_count": 3,
   "id": "civil-thunder",
   "metadata": {},
   "outputs": [
    {
     "name": "stdout",
     "output_type": "stream",
     "text": [
      "Position, Consumption = [345, 348996]\n"
     ]
    }
   ],
   "source": [
    "limits = [min(data),max(data)]\n",
    "\n",
    "result = [np.inf, np.inf]\n",
    "\n",
    "for target in range(limits[0],limits[1]+1):\n",
    "    \n",
    "    consumption = sum(abs(np.array(data)-target))\n",
    "    \n",
    "    if consumption < result[1]:     \n",
    "        result[0] = target\n",
    "        result[1] = consumption\n",
    "        \n",
    "print('Position, Consumption =', result) # [345, 348996]"
   ]
  },
  {
   "cell_type": "markdown",
   "id": "absent-staff",
   "metadata": {},
   "source": [
    "2021_07/2"
   ]
  },
  {
   "cell_type": "code",
   "execution_count": 4,
   "id": "crucial-alert",
   "metadata": {},
   "outputs": [
    {
     "name": "stderr",
     "output_type": "stream",
     "text": [
      "100%|██████████████████████████████████████████████████████████████████████████████| 1920/1920 [00:30<00:00, 63.69it/s]"
     ]
    },
    {
     "name": "stdout",
     "output_type": "stream",
     "text": [
      "Position, Consumption = [481, 98231647]\n"
     ]
    },
    {
     "name": "stderr",
     "output_type": "stream",
     "text": [
      "\n"
     ]
    }
   ],
   "source": [
    "limits = [min(data),max(data)]\n",
    "\n",
    "result = [np.inf, np.inf]\n",
    "\n",
    "for target in tqdm(range(limits[0],limits[1]+1)):\n",
    "    \n",
    "    consumption = 0\n",
    "    for val in abs(np.array(data)-target):\n",
    "        consumption += sum(list(range(1,val+1)))\n",
    "    \n",
    "    if consumption < result[1]:     \n",
    "        result[0] = target\n",
    "        result[1] = consumption\n",
    "        \n",
    "print('Position, Consumption =', result) # [481, 98231647]"
   ]
  }
 ],
 "metadata": {
  "kernelspec": {
   "display_name": "Python 3",
   "language": "python",
   "name": "python3"
  },
  "language_info": {
   "codemirror_mode": {
    "name": "ipython",
    "version": 3
   },
   "file_extension": ".py",
   "mimetype": "text/x-python",
   "name": "python",
   "nbconvert_exporter": "python",
   "pygments_lexer": "ipython3",
   "version": "3.7.10"
  }
 },
 "nbformat": 4,
 "nbformat_minor": 5
}
