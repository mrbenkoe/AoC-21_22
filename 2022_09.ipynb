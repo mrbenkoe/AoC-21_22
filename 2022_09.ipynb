{
 "cells": [
  {
   "cell_type": "markdown",
   "id": "single-scratch",
   "metadata": {},
   "source": [
    "2022_09/1"
   ]
  },
  {
   "cell_type": "code",
   "execution_count": 1,
   "id": "injured-screw",
   "metadata": {},
   "outputs": [],
   "source": [
    "import numpy as np"
   ]
  },
  {
   "cell_type": "code",
   "execution_count": 2,
   "id": "nasty-actress",
   "metadata": {},
   "outputs": [],
   "source": [
    "with open('data/2022_09.txt') as f:\n",
    "    lines = f.read().splitlines()\n",
    "\n",
    "data = []\n",
    "for line in lines:\n",
    "    data.append(line.split(' '))\n",
    "data = np.array(data)"
   ]
  },
  {
   "cell_type": "code",
   "execution_count": 3,
   "id": "black-villa",
   "metadata": {},
   "outputs": [],
   "source": [
    "def move_t(h_pos,t_pos):\n",
    "    \n",
    "    diff = (np.array(h_pos)-np.array(t_pos)).tolist()\n",
    "    \n",
    "    if diff == [2,0]:\n",
    "        t_new = (np.array(t_pos)+np.array([1,0])).tolist()       \n",
    "    elif diff == [0,2]:\n",
    "        t_new = (np.array(t_pos)+np.array([0,1])).tolist()\n",
    "    elif diff == [1,2] or diff == [2,1] or diff == [2,2]:\n",
    "        t_new = (np.array(t_pos)+np.array([1,1])).tolist()\n",
    "    elif diff == [1,-2] or diff == [2,-1] or diff == [2,-2]:\n",
    "        t_new = (np.array(t_pos)+np.array([1,-1])).tolist()\n",
    "    elif diff == [-2,0]:\n",
    "        t_new = (np.array(t_pos)+np.array([-1,0])).tolist()\n",
    "    elif diff == [0,-2]:\n",
    "        t_new = (np.array(t_pos)+np.array([0,-1])).tolist()\n",
    "    elif diff == [-1,2] or diff == [-2,1] or diff == [-2,2]:\n",
    "        t_new = (np.array(t_pos)+np.array([-1,1])).tolist()\n",
    "    elif diff == [-1,-2] or diff == [-2,-1] or diff == [-2,-2]:\n",
    "        t_new = (np.array(t_pos)+np.array([-1,-1])).tolist()\n",
    "    else:\n",
    "        t_new = t_pos\n",
    "    \n",
    "    return t_new"
   ]
  },
  {
   "cell_type": "code",
   "execution_count": 4,
   "id": "prescription-airport",
   "metadata": {},
   "outputs": [],
   "source": [
    "h_pos = [0, 0,] # row, col\n",
    "t_pos = [0, 0,] # row, col\n",
    "\n",
    "t_pos_list = [str(t_pos)[1:-1]]\n",
    "\n",
    "for mi, move in enumerate(data):\n",
    "    \n",
    "    if move[0] == 'R':\n",
    "        for step in range(int(move[1])):\n",
    "            h_pos[1] += 1\n",
    "            t_pos = move_t(h_pos, t_pos)\n",
    "            t_pos_list.append(str(t_pos)[1:-1])\n",
    "            \n",
    "    if move[0] == 'L':\n",
    "        for step in range(int(move[1])):\n",
    "            h_pos[1] -= 1\n",
    "            t_pos = move_t(h_pos, t_pos)\n",
    "            t_pos_list.append(str(t_pos)[1:-1])\n",
    "\n",
    "    if move[0] == 'U':\n",
    "        for step in range(int(move[1])):\n",
    "            h_pos[0] += 1\n",
    "            t_pos = move_t(h_pos, t_pos)\n",
    "            t_pos_list.append(str(t_pos)[1:-1])\n",
    "        \n",
    "    if move[0] == 'D':\n",
    "        for step in range(int(move[1])):\n",
    "            h_pos[0] -= 1\n",
    "            t_pos = move_t(h_pos, t_pos)\n",
    "            t_pos_list.append(str(t_pos)[1:-1])"
   ]
  },
  {
   "cell_type": "code",
   "execution_count": 5,
   "id": "developed-moral",
   "metadata": {},
   "outputs": [
    {
     "name": "stdout",
     "output_type": "stream",
     "text": [
      "Result = 6284\n"
     ]
    }
   ],
   "source": [
    "result = len(np.unique(t_pos_list))\n",
    "print('Result =', result) # 6284"
   ]
  },
  {
   "cell_type": "markdown",
   "id": "laden-granny",
   "metadata": {},
   "source": [
    "2022_09/2"
   ]
  },
  {
   "cell_type": "code",
   "execution_count": 6,
   "id": "neither-return",
   "metadata": {},
   "outputs": [],
   "source": [
    "h_pos = [0, 0,]\n",
    "t_pos = [[0, 0,]]*9 \n",
    "\n",
    "t_pos_list = []\n",
    "\n",
    "for mi, move in enumerate(data):\n",
    "    \n",
    "    if move[0] == 'R':\n",
    "        for step in range(int(move[1])):\n",
    "            h_pos[1] += 1\n",
    "            \n",
    "            for ti, t in enumerate(t_pos):\n",
    "                if ti == 0:\n",
    "                    t_pos[ti] = move_t(h_pos, t)\n",
    "                else:\n",
    "                    t_pos[ti] = move_t(t_pos[ti-1], t)\n",
    "                    \n",
    "            t_pos_list.append(str(t_pos[-1])[1:-1])\n",
    "            \n",
    "    if move[0] == 'L':\n",
    "        for step in range(int(move[1])):\n",
    "            h_pos[1] -= 1\n",
    "\n",
    "            for ti, t in enumerate(t_pos):\n",
    "                if ti == 0:\n",
    "                    t_pos[ti] = move_t(h_pos, t)\n",
    "                else:\n",
    "                    t_pos[ti] = move_t(t_pos[ti-1], t)\n",
    "                    \n",
    "            t_pos_list.append(str(t_pos[-1])[1:-1])\n",
    "\n",
    "    if move[0] == 'U':\n",
    "        for step in range(int(move[1])):\n",
    "            h_pos[0] += 1\n",
    "\n",
    "            for ti, t in enumerate(t_pos):\n",
    "                if ti == 0:\n",
    "                    t_pos[ti] = move_t(h_pos, t)\n",
    "                else:\n",
    "                    t_pos[ti] = move_t(t_pos[ti-1], t)\n",
    "                    \n",
    "            t_pos_list.append(str(t_pos[-1])[1:-1])\n",
    "        \n",
    "    if move[0] == 'D':\n",
    "        for step in range(int(move[1])):\n",
    "            h_pos[0] -= 1\n",
    "            \n",
    "            for ti, t in enumerate(t_pos):\n",
    "                if ti == 0:\n",
    "                    t_pos[ti] = move_t(h_pos, t)\n",
    "                else:\n",
    "                    t_pos[ti] = move_t(t_pos[ti-1], t)\n",
    "                    \n",
    "            t_pos_list.append(str(t_pos[-1])[1:-1])"
   ]
  },
  {
   "cell_type": "code",
   "execution_count": 7,
   "id": "technological-pillow",
   "metadata": {},
   "outputs": [
    {
     "name": "stdout",
     "output_type": "stream",
     "text": [
      "Result = 2661\n"
     ]
    }
   ],
   "source": [
    "result = len(np.unique(t_pos_list))\n",
    "print('Result =', result) # 2661"
   ]
  }
 ],
 "metadata": {
  "kernelspec": {
   "display_name": "Python 3",
   "language": "python",
   "name": "python3"
  },
  "language_info": {
   "codemirror_mode": {
    "name": "ipython",
    "version": 3
   },
   "file_extension": ".py",
   "mimetype": "text/x-python",
   "name": "python",
   "nbconvert_exporter": "python",
   "pygments_lexer": "ipython3",
   "version": "3.7.10"
  }
 },
 "nbformat": 4,
 "nbformat_minor": 5
}
