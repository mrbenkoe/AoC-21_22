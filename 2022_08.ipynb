{
 "cells": [
  {
   "cell_type": "markdown",
   "id": "smoking-breakdown",
   "metadata": {
    "scrolled": true
   },
   "source": [
    "2022_08/1"
   ]
  },
  {
   "cell_type": "code",
   "execution_count": 246,
   "id": "alpha-problem",
   "metadata": {},
   "outputs": [],
   "source": [
    "import numpy as np"
   ]
  },
  {
   "cell_type": "code",
   "execution_count": 247,
   "id": "welcome-bottom",
   "metadata": {},
   "outputs": [
    {
     "data": {
      "text/plain": [
       "array([[2, 1, 1, ..., 3, 0, 1],\n",
       "       [3, 1, 1, ..., 1, 0, 0],\n",
       "       [0, 0, 1, ..., 1, 2, 2],\n",
       "       ...,\n",
       "       [1, 2, 0, ..., 3, 0, 1],\n",
       "       [2, 1, 2, ..., 1, 2, 1],\n",
       "       [0, 0, 2, ..., 0, 2, 1]])"
      ]
     },
     "execution_count": 247,
     "metadata": {},
     "output_type": "execute_result"
    }
   ],
   "source": [
    "with open('data/2022_08.txt') as f:\n",
    "    rows = f.read().splitlines()\n",
    "\n",
    "data = []\n",
    "for row in rows:\n",
    "    data.append(list(map(int, row)))\n",
    "data = np.array(data)\n",
    "data"
   ]
  },
  {
   "cell_type": "code",
   "execution_count": 251,
   "id": "constant-annual",
   "metadata": {},
   "outputs": [
    {
     "name": "stdout",
     "output_type": "stream",
     "text": [
      "Result = 1688\n"
     ]
    }
   ],
   "source": [
    "counter = 0\n",
    "\n",
    "for r in range(1,data.shape[0]-1):\n",
    "    for c in range(1,data.shape[1]-1):\n",
    "\n",
    "        choices = [data[r][:c][::-1] ,data[r][c+1:], data[:r].transpose()[c][::-1], data[r+1:].transpose()[c]]\n",
    "        \n",
    "        good = []\n",
    "        for cho in choices:\n",
    "            good.append((data[r][c] > cho).all())\n",
    "        \n",
    "        if any(good):\n",
    "            counter += 1\n",
    "            \n",
    "result = (data.shape[0] + data.shape[1] - 2) * 2 + counter\n",
    "\n",
    "print('Result =', result) # 1688"
   ]
  },
  {
   "cell_type": "markdown",
   "id": "double-publicity",
   "metadata": {},
   "source": [
    "2022_08/2"
   ]
  },
  {
   "cell_type": "code",
   "execution_count": 252,
   "id": "checked-fiber",
   "metadata": {},
   "outputs": [
    {
     "name": "stdout",
     "output_type": "stream",
     "text": [
      "Result = 410400\n"
     ]
    }
   ],
   "source": [
    "sight_list = []\n",
    "\n",
    "for r in range(1,data.shape[0]-1):\n",
    "    for c in range(1,data.shape[1]-1):\n",
    "\n",
    "        choices = [data[r][:c][::-1] ,data[r][c+1:], data[:r].transpose()[c][::-1], data[r+1:].transpose()[c]]\n",
    "        \n",
    "        start = data[r][c]\n",
    "\n",
    "        sight = []\n",
    "        for cho in choices: \n",
    "            \n",
    "            x = 0\n",
    "            counter = 0\n",
    "            for tree in cho:\n",
    "                if tree < start and x == 0:       \n",
    "                    counter += 1 \n",
    "                elif tree >= start and x == 0: \n",
    "                    counter += 1 \n",
    "                    x = 1\n",
    "\n",
    "            sight.append(counter)\n",
    "        sight_list.append(sight)\n",
    "        \n",
    "prod_list = []\n",
    "for s in sight_list:\n",
    "    prod_list.append(np.prod(s))\n",
    "    \n",
    "res = max(prod_list)\n",
    "                        \n",
    "print('Result =', res) # 410400"
   ]
  }
 ],
 "metadata": {
  "kernelspec": {
   "display_name": "Python 3",
   "language": "python",
   "name": "python3"
  },
  "language_info": {
   "codemirror_mode": {
    "name": "ipython",
    "version": 3
   },
   "file_extension": ".py",
   "mimetype": "text/x-python",
   "name": "python",
   "nbconvert_exporter": "python",
   "pygments_lexer": "ipython3",
   "version": "3.7.10"
  }
 },
 "nbformat": 4,
 "nbformat_minor": 5
}
