{
 "cells": [
  {
   "cell_type": "markdown",
   "id": "compressed-favorite",
   "metadata": {},
   "source": [
    "2021_04/1"
   ]
  },
  {
   "cell_type": "code",
   "execution_count": 1,
   "id": "alien-transsexual",
   "metadata": {},
   "outputs": [],
   "source": [
    "import pandas as pd\n",
    "import numpy as np"
   ]
  },
  {
   "cell_type": "code",
   "execution_count": 2,
   "id": "covered-leonard",
   "metadata": {},
   "outputs": [],
   "source": [
    "filename = 'data/2021_04.txt'"
   ]
  },
  {
   "cell_type": "code",
   "execution_count": 3,
   "id": "sapphire-seattle",
   "metadata": {},
   "outputs": [],
   "source": [
    "with open(filename) as f:\n",
    "    line = f.readlines(1)\n",
    "header = list(map(int, str(line)[2:-4].split(',')))"
   ]
  },
  {
   "cell_type": "code",
   "execution_count": 4,
   "id": "commercial-gabriel",
   "metadata": {},
   "outputs": [],
   "source": [
    "data = np.loadtxt(filename, skiprows=1, dtype='int')\n",
    "boards = np.array_split(data, int(len(data)/5))"
   ]
  },
  {
   "cell_type": "code",
   "execution_count": 5,
   "id": "ancient-thickness",
   "metadata": {},
   "outputs": [
    {
     "data": {
      "text/plain": [
       "71708"
      ]
     },
     "execution_count": 5,
     "metadata": {},
     "output_type": "execute_result"
    }
   ],
   "source": [
    "hits = np.zeros(np.shape(boards)).astype(int)\n",
    "\n",
    "def check_boards(hits):      \n",
    "    for ni, number in enumerate(header):    \n",
    "        for bi, bd in enumerate(boards): \n",
    "            if number in bd:\n",
    "                location = [np.where(bd==number)[0][0],\n",
    "                            np.where(bd==number)[1][0]]\n",
    "                \n",
    "                hits[bi][location[0],location[1]] = 1\n",
    "\n",
    "        for hi, ht in enumerate(hits):\n",
    "            if 5 in np.sum(ht,axis=0) or 5 in np.sum(ht,axis=1) : # columns / rows\n",
    "                return hi, ht, number\n",
    "\n",
    "res_hi, res_ht, res_number = check_boards(hits)\n",
    "\n",
    "res_ht_inv = np.where((res_ht==0)|(res_ht==1), res_ht^1, res_ht) # replace zeros with ones\n",
    "board_corr = boards[res_hi]*res_ht_inv # only keep not highlighted numbers\n",
    "result = np.sum(board_corr)*res_number # calculate result\n",
    "result #71708"
   ]
  },
  {
   "cell_type": "markdown",
   "id": "capable-security",
   "metadata": {},
   "source": [
    "2021_04/2"
   ]
  },
  {
   "cell_type": "code",
   "execution_count": 6,
   "id": "distant-future",
   "metadata": {},
   "outputs": [
    {
     "data": {
      "text/plain": [
       "34726"
      ]
     },
     "execution_count": 6,
     "metadata": {},
     "output_type": "execute_result"
    }
   ],
   "source": [
    "hits = np.zeros(np.shape(boards)).astype(int)\n",
    "\n",
    "def check_boards(hits, win_list = [], win_nums = [], win_hits = np.zeros([5,5])):    \n",
    "    for ni, number in enumerate(header):    \n",
    "        for bi, bd in enumerate(boards): \n",
    "            if number in bd:\n",
    "                location = [np.where(bd==number)[0][0],\n",
    "                            np.where(bd==number)[1][0]]\n",
    "                \n",
    "                hits[bi][location[0],location[1]] = 1\n",
    "\n",
    "        for hi, ht in enumerate(hits):\n",
    "            if 5 in np.sum(ht,axis=0) or 5 in np.sum(ht,axis=1): # columns / rows\n",
    "                if hi not in win_list:\n",
    "                    win_list.append(hi)\n",
    "                    win_nums.append(number)\n",
    "                    win_hits = np.vstack([win_hits,ht])\n",
    "    win_hits = np.array_split(win_hits[5:].astype(int),int(len(data)/5))\n",
    "    return win_list, win_hits, win_nums\n",
    "\n",
    "win_list, win_hits, win_nums = check_boards(hits)\n",
    "\n",
    "res_hi = win_list[-1] # last winning board index\n",
    "res_ht = win_hits[-1] # last winning board hit list\n",
    "res_number = win_nums[-1] # last winning board hit list\n",
    "\n",
    "res_ht_inv = np.where((res_ht==0)|(res_ht==1), res_ht^1, res_ht) # replace zeros with ones\n",
    "board_corr = boards[res_hi]*res_ht_inv # only keep not highlighted numbers\n",
    "result = np.sum(board_corr)*res_number # calculate result\n",
    "result #34726"
   ]
  }
 ],
 "metadata": {
  "kernelspec": {
   "display_name": "Python 3",
   "language": "python",
   "name": "python3"
  },
  "language_info": {
   "codemirror_mode": {
    "name": "ipython",
    "version": 3
   },
   "file_extension": ".py",
   "mimetype": "text/x-python",
   "name": "python",
   "nbconvert_exporter": "python",
   "pygments_lexer": "ipython3",
   "version": "3.7.10"
  }
 },
 "nbformat": 4,
 "nbformat_minor": 5
}
