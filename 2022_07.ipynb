{
 "cells": [
  {
   "cell_type": "markdown",
   "id": "lesbian-minimum",
   "metadata": {
    "scrolled": true
   },
   "source": [
    "2022_07/1"
   ]
  },
  {
   "cell_type": "code",
   "execution_count": 8,
   "id": "grave-organ",
   "metadata": {},
   "outputs": [],
   "source": [
    "import numpy as np"
   ]
  },
  {
   "cell_type": "code",
   "execution_count": 9,
   "id": "parental-milan",
   "metadata": {},
   "outputs": [],
   "source": [
    "with open('data/2022_07.txt') as f:\n",
    "    data = f.read().splitlines()"
   ]
  },
  {
   "cell_type": "code",
   "execution_count": 10,
   "id": "breeding-auction",
   "metadata": {},
   "outputs": [],
   "source": [
    "pack = []\n",
    "path = []\n",
    "\n",
    "cont = []\n",
    "cont_big = []\n",
    "\n",
    "for li, line in enumerate(data):\n",
    "    \n",
    "    if '$ cd' in line:\n",
    "        pack.append(line)\n",
    "    else:\n",
    "        if pack != []:\n",
    "            path.append(pack)\n",
    "            pack = []\n",
    "\n",
    "    if '$' not in line:\n",
    "        cont.append(line)\n",
    "    else:\n",
    "        if cont != []:\n",
    "            cont_big.append(cont)\n",
    "            cont = []\n",
    "\n",
    "cont_big.append(cont)"
   ]
  },
  {
   "cell_type": "code",
   "execution_count": 11,
   "id": "dependent-helicopter",
   "metadata": {},
   "outputs": [],
   "source": [
    "str_path_list = []\n",
    "str_path = ''\n",
    "\n",
    "for pi, p in enumerate(path):\n",
    "    for ei, entry in enumerate(p):\n",
    "        part = entry[5:]\n",
    "        if part != '..':\n",
    "            str_path = str_path + '-' + part\n",
    "        else:\n",
    "            str_path = '-'.join(str_path.split('-')[:-1])\n",
    "    str_path_list.append(str_path)\n",
    "    \n",
    "\n",
    "for ci, c in enumerate(cont_big):\n",
    "    for sub_i, sub in enumerate(c):\n",
    "        if 'dir' in sub:\n",
    "            cont_big[ci][sub_i] = str_path_list[ci] + '-' + sub[4:]      "
   ]
  },
  {
   "cell_type": "code",
   "execution_count": 12,
   "id": "rotary-result",
   "metadata": {},
   "outputs": [
    {
     "name": "stdout",
     "output_type": "stream",
     "text": [
      "Result = 1543140\n"
     ]
    }
   ],
   "source": [
    "def get_size(content, size):\n",
    "    \n",
    "    for val in content: \n",
    "        if val[0] == '-':\n",
    "            ccc = cont_big[str_path_list.index(val)]\n",
    "            size = get_size(ccc, size)\n",
    "        else:\n",
    "            size += int(val.split(' ')[0])\n",
    "            \n",
    "    return size\n",
    " \n",
    "    \n",
    "result = 0\n",
    "for spi, sp in enumerate(str_path_list):\n",
    "\n",
    "    res = get_size(cont_big[spi], 0)\n",
    "    \n",
    "    if res <= 100000:\n",
    "        result += res\n",
    "        \n",
    "print('Result =', result) # 1543140"
   ]
  },
  {
   "cell_type": "markdown",
   "id": "contained-blind",
   "metadata": {},
   "source": [
    "2022_07/2"
   ]
  },
  {
   "cell_type": "code",
   "execution_count": 13,
   "id": "collectible-movement",
   "metadata": {},
   "outputs": [
    {
     "name": "stdout",
     "output_type": "stream",
     "text": [
      "Result = 1117448\n"
     ]
    }
   ],
   "source": [
    "sizes = []\n",
    "for spi, sp in enumerate(str_path_list):\n",
    "\n",
    "    res = get_size(cont_big[spi], 0)\n",
    "    \n",
    "    sizes.append(res)\n",
    "\n",
    "rest = 30000000 - (70000000 - sizes[0]) \n",
    "\n",
    "sizes = np.array(sizes)\n",
    "\n",
    "result = np.sort(sizes[sizes >= rest])[0]\n",
    "        \n",
    "print('Result =', result) # 1117448"
   ]
  }
 ],
 "metadata": {
  "kernelspec": {
   "display_name": "Python 3",
   "language": "python",
   "name": "python3"
  },
  "language_info": {
   "codemirror_mode": {
    "name": "ipython",
    "version": 3
   },
   "file_extension": ".py",
   "mimetype": "text/x-python",
   "name": "python",
   "nbconvert_exporter": "python",
   "pygments_lexer": "ipython3",
   "version": "3.7.10"
  }
 },
 "nbformat": 4,
 "nbformat_minor": 5
}
