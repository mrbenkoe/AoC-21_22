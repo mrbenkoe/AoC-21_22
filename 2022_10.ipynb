{
 "cells": [
  {
   "cell_type": "markdown",
   "id": "plain-enterprise",
   "metadata": {},
   "source": [
    "2022_10/1"
   ]
  },
  {
   "cell_type": "code",
   "execution_count": 1,
   "id": "legal-asian",
   "metadata": {},
   "outputs": [],
   "source": [
    "with open('data/2022_10.txt') as f:\n",
    "    data = f.read().splitlines()"
   ]
  },
  {
   "cell_type": "code",
   "execution_count": 2,
   "id": "classical-patrick",
   "metadata": {},
   "outputs": [
    {
     "data": {
      "text/plain": [
       "15680"
      ]
     },
     "execution_count": 2,
     "metadata": {},
     "output_type": "execute_result"
    }
   ],
   "source": [
    "x = 1\n",
    "cycle = 0\n",
    "res_list = []\n",
    "\n",
    "for line in data:   \n",
    "    cycle += 1\n",
    "    res_list.append(x)\n",
    "    \n",
    "    if line[0] == 'a':\n",
    "        split = line.split(' ')          \n",
    "        cycle += 1        \n",
    "        res_list.append(x) \n",
    "        x += int(split[1])  \n",
    "    \n",
    "result = 0\n",
    "for pos in range(20,220+40,40):\n",
    "    result += pos * res_list[pos-1]\n",
    "    \n",
    "result # 15680"
   ]
  },
  {
   "cell_type": "markdown",
   "id": "mediterranean-airplane",
   "metadata": {},
   "source": [
    "2022_10/2"
   ]
  },
  {
   "cell_type": "code",
   "execution_count": 3,
   "id": "increased-header",
   "metadata": {},
   "outputs": [],
   "source": [
    "import numpy as np"
   ]
  },
  {
   "cell_type": "code",
   "execution_count": 4,
   "id": "imperial-texas",
   "metadata": {},
   "outputs": [
    {
     "name": "stdout",
     "output_type": "stream",
     "text": [
      "####.####.###..####.#..#..##..#..#.###..\n",
      "...#.#....#..#.#....#..#.#..#.#..#.#..#.\n",
      "..#..###..###..###..####.#....#..#.#..#.\n",
      ".#...#....#..#.#....#..#.#.##.#..#.###..\n",
      "#....#....#..#.#....#..#.#..#.#..#.#....\n",
      "####.#....###..#....#..#..###..##..#....\n"
     ]
    }
   ],
   "source": [
    "for chunk in np.array_split(res_list, 6):\n",
    "    res = []\n",
    "    for vi, val in enumerate(chunk):\n",
    "\n",
    "        if vi in range(val-1,val+2):\n",
    "            res.append('#')\n",
    "        else:\n",
    "            res.append('.')\n",
    "\n",
    "    print(''.join(res)) # ZFBFHGUP     "
   ]
  }
 ],
 "metadata": {
  "kernelspec": {
   "display_name": "Python 3",
   "language": "python",
   "name": "python3"
  },
  "language_info": {
   "codemirror_mode": {
    "name": "ipython",
    "version": 3
   },
   "file_extension": ".py",
   "mimetype": "text/x-python",
   "name": "python",
   "nbconvert_exporter": "python",
   "pygments_lexer": "ipython3",
   "version": "3.7.10"
  }
 },
 "nbformat": 4,
 "nbformat_minor": 5
}
