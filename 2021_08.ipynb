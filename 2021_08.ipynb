{
 "cells": [
  {
   "cell_type": "markdown",
   "id": "covered-identity",
   "metadata": {},
   "source": [
    "2021_08/1"
   ]
  },
  {
   "cell_type": "code",
   "execution_count": 1,
   "id": "expensive-equivalent",
   "metadata": {},
   "outputs": [],
   "source": [
    "data = []\n",
    "with open('data/2021_08.txt') as f:\n",
    "    for line in f.read().splitlines():\n",
    "        data.append(line.split('|')[1][1:])\n",
    "        \n",
    "output = []\n",
    "for val in data:\n",
    "    val = val.split(' ')\n",
    "    output.append(val)"
   ]
  },
  {
   "cell_type": "code",
   "execution_count": 2,
   "id": "systematic-tooth",
   "metadata": {},
   "outputs": [
    {
     "name": "stdout",
     "output_type": "stream",
     "text": [
      "Result = 301\n"
     ]
    }
   ],
   "source": [
    "result = 0\n",
    "\n",
    "for out in output:\n",
    "    for o in out:\n",
    "        if len(o) in [2,4,3,7]:\n",
    "            result += 1\n",
    "            \n",
    "print('Result =', result) # 301"
   ]
  },
  {
   "cell_type": "markdown",
   "id": "fatty-cursor",
   "metadata": {},
   "source": [
    "2021_08/2"
   ]
  },
  {
   "cell_type": "code",
   "execution_count": 3,
   "id": "upper-holocaust",
   "metadata": {},
   "outputs": [],
   "source": [
    "import numpy as np"
   ]
  },
  {
   "cell_type": "code",
   "execution_count": 4,
   "id": "employed-cambridge",
   "metadata": {},
   "outputs": [],
   "source": [
    "data1 = []\n",
    "data2 = []\n",
    "with open('data/2021_08.txt') as f:\n",
    "    for line in f.read().splitlines():\n",
    "        data1.append(line.split('|')[0][:-1])\n",
    "        data2.append(line.split('|')[1][1:])\n",
    "\n",
    "digi = [[],[]]\n",
    "for di, data in enumerate([data1, data2]):\n",
    "    for val in data:\n",
    "        val = val.split(' ')\n",
    "        for vi, v in enumerate(val):\n",
    "            val[vi] = ''.join(sorted(v))\n",
    "        digi[di].append(val)  \n",
    "\n",
    "train = digi[0]   \n",
    "valid = digi[1]"
   ]
  },
  {
   "cell_type": "code",
   "execution_count": 7,
   "id": "transsexual-narrative",
   "metadata": {},
   "outputs": [
    {
     "name": "stdout",
     "output_type": "stream",
     "text": [
      "Result = 908067\n"
     ]
    }
   ],
   "source": [
    "result = []\n",
    "\n",
    "for tti, ttt in enumerate(train):\n",
    "\n",
    "    big = np.array([ttt, list(len(t) for t in ttt), [np.nan]*10], dtype='object') # letters, lengths, results\n",
    "\n",
    "    # GET 1, 7, 4, 8\n",
    "    big[2][big[1]==2] = 1\n",
    "    big[2][big[1]==3] = 7\n",
    "    big[2][big[1]==4] = 4\n",
    "    big[2][big[1]==7] = 8\n",
    "    \n",
    "    # GET 6\n",
    "    for poss in big[0][big[1]==6]:\n",
    "        counter = 0\n",
    "        for lt in set(big[0][big[2]==8][0])-set(big[0][big[2]==7][0]): # Compare all len(6) with 8-7\n",
    "            if lt in poss:\n",
    "                counter += 1\n",
    "            if counter == 4:\n",
    "                big[2][big[0]==poss] = 6\n",
    "                \n",
    "    # GET 0            \n",
    "    for poss in big[0][(big[1]==6) & (big[2]!=6)]:\n",
    "        counter = 0\n",
    "        for lt in set(big[0][big[2]==6][0])-set(big[0][big[2]==4][0]): # Compare all len(6) except 6 with 6-4\n",
    "            if lt in poss:\n",
    "                counter += 1\n",
    "            if counter == 3:\n",
    "                big[2][big[0]==poss] = 0\n",
    "    \n",
    "    # GET 9\n",
    "    for poss in big[0][(big[1]==6) & (big[2]!=6) & (big[2]!=0)]: # Last len(6) = 9\n",
    "        big[2][big[0]==poss] = 9 \n",
    "        \n",
    "    # GET 3\n",
    "    for poss in big[0][big[1]==5]: # Compare all len(5) [2,3,5] with 1         \n",
    "        counter = 0\n",
    "        for lt in big[0][big[2]==1][0]:\n",
    "            if lt in poss:\n",
    "                counter += 1\n",
    "            if counter == 2:\n",
    "                big[2][big[0]==poss] = 3\n",
    "    \n",
    "    # GET 5           \n",
    "    for poss in big[0][(big[1]==5) & (big[2]!=3)]: # Compare all len(5) except 3 [2,5] with 6  \n",
    "        counter = 0\n",
    "        for lt in big[0][big[2]==6][0]:\n",
    "            if lt in poss:\n",
    "                counter += 1\n",
    "            if counter == 5:\n",
    "                big[2][big[0]==poss] = 5\n",
    "    \n",
    "    # GET 2         \n",
    "    for vi, val in enumerate(big[2]): # Last nan = 2\n",
    "        if type(val) != int:\n",
    "            big[2][vi] = 2\n",
    "    \n",
    "    # VALID \n",
    "    res = ''\n",
    "    for vvi, vvv in enumerate(valid[tti]):\n",
    "        res += str(big[2][big[0]==vvv][0])\n",
    "        \n",
    "    result.append(int(res))\n",
    "\n",
    "print('Result =', sum(result)) #908067"
   ]
  }
 ],
 "metadata": {
  "kernelspec": {
   "display_name": "Python 3",
   "language": "python",
   "name": "python3"
  },
  "language_info": {
   "codemirror_mode": {
    "name": "ipython",
    "version": 3
   },
   "file_extension": ".py",
   "mimetype": "text/x-python",
   "name": "python",
   "nbconvert_exporter": "python",
   "pygments_lexer": "ipython3",
   "version": "3.7.10"
  }
 },
 "nbformat": 4,
 "nbformat_minor": 5
}
