{
 "cells": [
  {
   "cell_type": "markdown",
   "id": "material-satellite",
   "metadata": {},
   "source": [
    "2022_06/1+2"
   ]
  },
  {
   "cell_type": "code",
   "execution_count": 1,
   "id": "australian-number",
   "metadata": {},
   "outputs": [],
   "source": [
    "with open('data/2022_06.txt') as f:\n",
    "    data = f.readlines()[0][:-1]"
   ]
  },
  {
   "cell_type": "code",
   "execution_count": 3,
   "id": "neutral-differential",
   "metadata": {},
   "outputs": [
    {
     "name": "stdout",
     "output_type": "stream",
     "text": [
      "Result = 1920\n",
      "Result = 2334\n"
     ]
    }
   ],
   "source": [
    "def function(marker):\n",
    "    \n",
    "    buffer = ''\n",
    "    result = []\n",
    "\n",
    "    for li, letter in enumerate(data):\n",
    "        \n",
    "        if len(buffer) < marker:\n",
    "            buffer += letter\n",
    "        else:\n",
    "            \n",
    "            if len(set(buffer)) == marker:\n",
    "                   return li\n",
    "            else:\n",
    "                buffer = buffer[1:]\n",
    "                buffer += letter\n",
    "                \n",
    "for marker in [4,14]:   \n",
    "    \n",
    "    result = function(marker)\n",
    "    print('Result =', result) # 1920, 2334"
   ]
  }
 ],
 "metadata": {
  "kernelspec": {
   "display_name": "Python 3",
   "language": "python",
   "name": "python3"
  },
  "language_info": {
   "codemirror_mode": {
    "name": "ipython",
    "version": 3
   },
   "file_extension": ".py",
   "mimetype": "text/x-python",
   "name": "python",
   "nbconvert_exporter": "python",
   "pygments_lexer": "ipython3",
   "version": "3.7.10"
  }
 },
 "nbformat": 4,
 "nbformat_minor": 5
}
